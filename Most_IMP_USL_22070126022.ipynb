{
  "nbformat": 4,
  "nbformat_minor": 0,
  "metadata": {
    "colab": {
      "provenance": []
    },
    "kernelspec": {
      "name": "python3",
      "display_name": "Python 3"
    },
    "language_info": {
      "name": "python"
    }
  },
  "cells": [
    {
      "cell_type": "markdown",
      "source": [
        "IMPORTING ALL THE NECESSARY LIBRARIES"
      ],
      "metadata": {
        "id": "RVfzIGKt7zw3"
      }
    },
    {
      "cell_type": "code",
      "source": [
        "import pandas as pd\n",
        "import numpy as np\n",
        "import matplotlib.pyplot as plt\n",
        "import seaborn as sns\n",
        "\n",
        "from sklearn.preprocessing import LabelEncoder\n",
        "from sklearn.preprocessing import MinMaxScaler\n",
        "from sklearn.decomposition import PCA\n",
        "from sklearn.discriminant_analysis import LinearDiscriminantAnalysis\n",
        "from sklearn.model_selection import train_test_split\n",
        "\n",
        "from sklearn.model_selection import cross_val_score\n",
        "from sklearn.metrics import confusion_matrix\n",
        "from sklearn.metrics import accuracy_score\n",
        "from sklearn.metrics import classification_report\n",
        "\n",
        "from sklearn.model_selection import GridSearchCV\n",
        "from sklearn.linear_model import LogisticRegression\n",
        "from sklearn.tree import DecisionTreeClassifier\n",
        "\n",
        "from IPython.display import Image\n",
        "\n",
        "%matplotlib inline\n",
        "\n",
        "import warnings\n",
        "warnings.filterwarnings('ignore')\n",
        "\n",
        "from sklearn.model_selection import train_test_split\n",
        "from sklearn.preprocessing import StandardScaler\n",
        "from sklearn.decomposition import PCA\n",
        "from sklearn.linear_model import LinearRegression\n",
        "from sklearn.metrics import mean_squared_error\n",
        "\n",
        "\n",
        "from sklearn.model_selection import train_test_split\n",
        "from sklearn.linear_model import LogisticRegression\n",
        "from sklearn.metrics import accuracy_score\n",
        "from sklearn.metrics import mean_squared_error\n",
        "from sklearn.metrics import mean_squared_error, r2_score"
      ],
      "metadata": {
        "id": "hN9lrOuhXEES"
      },
      "execution_count": null,
      "outputs": []
    },
    {
      "cell_type": "code",
      "source": [
        "df=pd.read_csv(\"/content/Shill Bidding Dataset.csv\")\n",
        "df"
      ],
      "metadata": {
        "colab": {
          "base_uri": "https://localhost:8080/",
          "height": 443
        },
        "id": "CFW4iyVLXQT_",
        "outputId": "5f48f533-6303-44e8-a140-39613bb6e28f"
      },
      "execution_count": null,
      "outputs": [
        {
          "output_type": "execute_result",
          "data": {
            "text/plain": [
              "      Record_ID  Auction_ID Bidder_ID  Bidder_Tendency  Bidding_Ratio  \\\n",
              "0             1         732     _***i         0.200000       0.400000   \n",
              "1             2         732     g***r         0.024390       0.200000   \n",
              "2             3         732     t***p         0.142857       0.200000   \n",
              "3             4         732     7***n         0.100000       0.200000   \n",
              "4             5         900     z***z         0.051282       0.222222   \n",
              "...         ...         ...       ...              ...            ...   \n",
              "6316      15129         760     l***t         0.333333       0.160000   \n",
              "6317      15137        2481     s***s         0.030612       0.130435   \n",
              "6318      15138        2481     h***t         0.055556       0.043478   \n",
              "6319      15139        2481     d***d         0.076923       0.086957   \n",
              "6320      15144        2481     a***l         0.016393       0.043478   \n",
              "\n",
              "      Successive_Outbidding  Last_Bidding  Auction_Bids  \\\n",
              "0                       0.0      0.000028      0.000000   \n",
              "1                       0.0      0.013123      0.000000   \n",
              "2                       0.0      0.003042      0.000000   \n",
              "3                       0.0      0.097477      0.000000   \n",
              "4                       0.0      0.001318      0.000000   \n",
              "...                     ...           ...           ...   \n",
              "6316                    1.0      0.738557      0.280000   \n",
              "6317                    0.0      0.005754      0.217391   \n",
              "6318                    0.0      0.015663      0.217391   \n",
              "6319                    0.0      0.068694      0.217391   \n",
              "6320                    0.0      0.340351      0.217391   \n",
              "\n",
              "      Starting_Price_Average  Early_Bidding  Winning_Ratio  Auction_Duration  \\\n",
              "0                   0.993593       0.000028       0.666667                 5   \n",
              "1                   0.993593       0.013123       0.944444                 5   \n",
              "2                   0.993593       0.003042       1.000000                 5   \n",
              "3                   0.993593       0.097477       1.000000                 5   \n",
              "4                   0.000000       0.001242       0.500000                 7   \n",
              "...                      ...            ...            ...               ...   \n",
              "6316                0.993593       0.686358       0.888889                 3   \n",
              "6317                0.993593       0.000010       0.878788                 7   \n",
              "6318                0.993593       0.015663       0.000000                 7   \n",
              "6319                0.993593       0.000415       0.000000                 7   \n",
              "6320                0.993593       0.340351       0.000000                 7   \n",
              "\n",
              "      Class  \n",
              "0         0  \n",
              "1         0  \n",
              "2         0  \n",
              "3         0  \n",
              "4         0  \n",
              "...     ...  \n",
              "6316      1  \n",
              "6317      0  \n",
              "6318      0  \n",
              "6319      0  \n",
              "6320      0  \n",
              "\n",
              "[6321 rows x 13 columns]"
            ],
            "text/html": [
              "\n",
              "  <div id=\"df-a0a7bb4c-8ade-4cc9-a9ae-90a46cc0767e\" class=\"colab-df-container\">\n",
              "    <div>\n",
              "<style scoped>\n",
              "    .dataframe tbody tr th:only-of-type {\n",
              "        vertical-align: middle;\n",
              "    }\n",
              "\n",
              "    .dataframe tbody tr th {\n",
              "        vertical-align: top;\n",
              "    }\n",
              "\n",
              "    .dataframe thead th {\n",
              "        text-align: right;\n",
              "    }\n",
              "</style>\n",
              "<table border=\"1\" class=\"dataframe\">\n",
              "  <thead>\n",
              "    <tr style=\"text-align: right;\">\n",
              "      <th></th>\n",
              "      <th>Record_ID</th>\n",
              "      <th>Auction_ID</th>\n",
              "      <th>Bidder_ID</th>\n",
              "      <th>Bidder_Tendency</th>\n",
              "      <th>Bidding_Ratio</th>\n",
              "      <th>Successive_Outbidding</th>\n",
              "      <th>Last_Bidding</th>\n",
              "      <th>Auction_Bids</th>\n",
              "      <th>Starting_Price_Average</th>\n",
              "      <th>Early_Bidding</th>\n",
              "      <th>Winning_Ratio</th>\n",
              "      <th>Auction_Duration</th>\n",
              "      <th>Class</th>\n",
              "    </tr>\n",
              "  </thead>\n",
              "  <tbody>\n",
              "    <tr>\n",
              "      <th>0</th>\n",
              "      <td>1</td>\n",
              "      <td>732</td>\n",
              "      <td>_***i</td>\n",
              "      <td>0.200000</td>\n",
              "      <td>0.400000</td>\n",
              "      <td>0.0</td>\n",
              "      <td>0.000028</td>\n",
              "      <td>0.000000</td>\n",
              "      <td>0.993593</td>\n",
              "      <td>0.000028</td>\n",
              "      <td>0.666667</td>\n",
              "      <td>5</td>\n",
              "      <td>0</td>\n",
              "    </tr>\n",
              "    <tr>\n",
              "      <th>1</th>\n",
              "      <td>2</td>\n",
              "      <td>732</td>\n",
              "      <td>g***r</td>\n",
              "      <td>0.024390</td>\n",
              "      <td>0.200000</td>\n",
              "      <td>0.0</td>\n",
              "      <td>0.013123</td>\n",
              "      <td>0.000000</td>\n",
              "      <td>0.993593</td>\n",
              "      <td>0.013123</td>\n",
              "      <td>0.944444</td>\n",
              "      <td>5</td>\n",
              "      <td>0</td>\n",
              "    </tr>\n",
              "    <tr>\n",
              "      <th>2</th>\n",
              "      <td>3</td>\n",
              "      <td>732</td>\n",
              "      <td>t***p</td>\n",
              "      <td>0.142857</td>\n",
              "      <td>0.200000</td>\n",
              "      <td>0.0</td>\n",
              "      <td>0.003042</td>\n",
              "      <td>0.000000</td>\n",
              "      <td>0.993593</td>\n",
              "      <td>0.003042</td>\n",
              "      <td>1.000000</td>\n",
              "      <td>5</td>\n",
              "      <td>0</td>\n",
              "    </tr>\n",
              "    <tr>\n",
              "      <th>3</th>\n",
              "      <td>4</td>\n",
              "      <td>732</td>\n",
              "      <td>7***n</td>\n",
              "      <td>0.100000</td>\n",
              "      <td>0.200000</td>\n",
              "      <td>0.0</td>\n",
              "      <td>0.097477</td>\n",
              "      <td>0.000000</td>\n",
              "      <td>0.993593</td>\n",
              "      <td>0.097477</td>\n",
              "      <td>1.000000</td>\n",
              "      <td>5</td>\n",
              "      <td>0</td>\n",
              "    </tr>\n",
              "    <tr>\n",
              "      <th>4</th>\n",
              "      <td>5</td>\n",
              "      <td>900</td>\n",
              "      <td>z***z</td>\n",
              "      <td>0.051282</td>\n",
              "      <td>0.222222</td>\n",
              "      <td>0.0</td>\n",
              "      <td>0.001318</td>\n",
              "      <td>0.000000</td>\n",
              "      <td>0.000000</td>\n",
              "      <td>0.001242</td>\n",
              "      <td>0.500000</td>\n",
              "      <td>7</td>\n",
              "      <td>0</td>\n",
              "    </tr>\n",
              "    <tr>\n",
              "      <th>...</th>\n",
              "      <td>...</td>\n",
              "      <td>...</td>\n",
              "      <td>...</td>\n",
              "      <td>...</td>\n",
              "      <td>...</td>\n",
              "      <td>...</td>\n",
              "      <td>...</td>\n",
              "      <td>...</td>\n",
              "      <td>...</td>\n",
              "      <td>...</td>\n",
              "      <td>...</td>\n",
              "      <td>...</td>\n",
              "      <td>...</td>\n",
              "    </tr>\n",
              "    <tr>\n",
              "      <th>6316</th>\n",
              "      <td>15129</td>\n",
              "      <td>760</td>\n",
              "      <td>l***t</td>\n",
              "      <td>0.333333</td>\n",
              "      <td>0.160000</td>\n",
              "      <td>1.0</td>\n",
              "      <td>0.738557</td>\n",
              "      <td>0.280000</td>\n",
              "      <td>0.993593</td>\n",
              "      <td>0.686358</td>\n",
              "      <td>0.888889</td>\n",
              "      <td>3</td>\n",
              "      <td>1</td>\n",
              "    </tr>\n",
              "    <tr>\n",
              "      <th>6317</th>\n",
              "      <td>15137</td>\n",
              "      <td>2481</td>\n",
              "      <td>s***s</td>\n",
              "      <td>0.030612</td>\n",
              "      <td>0.130435</td>\n",
              "      <td>0.0</td>\n",
              "      <td>0.005754</td>\n",
              "      <td>0.217391</td>\n",
              "      <td>0.993593</td>\n",
              "      <td>0.000010</td>\n",
              "      <td>0.878788</td>\n",
              "      <td>7</td>\n",
              "      <td>0</td>\n",
              "    </tr>\n",
              "    <tr>\n",
              "      <th>6318</th>\n",
              "      <td>15138</td>\n",
              "      <td>2481</td>\n",
              "      <td>h***t</td>\n",
              "      <td>0.055556</td>\n",
              "      <td>0.043478</td>\n",
              "      <td>0.0</td>\n",
              "      <td>0.015663</td>\n",
              "      <td>0.217391</td>\n",
              "      <td>0.993593</td>\n",
              "      <td>0.015663</td>\n",
              "      <td>0.000000</td>\n",
              "      <td>7</td>\n",
              "      <td>0</td>\n",
              "    </tr>\n",
              "    <tr>\n",
              "      <th>6319</th>\n",
              "      <td>15139</td>\n",
              "      <td>2481</td>\n",
              "      <td>d***d</td>\n",
              "      <td>0.076923</td>\n",
              "      <td>0.086957</td>\n",
              "      <td>0.0</td>\n",
              "      <td>0.068694</td>\n",
              "      <td>0.217391</td>\n",
              "      <td>0.993593</td>\n",
              "      <td>0.000415</td>\n",
              "      <td>0.000000</td>\n",
              "      <td>7</td>\n",
              "      <td>0</td>\n",
              "    </tr>\n",
              "    <tr>\n",
              "      <th>6320</th>\n",
              "      <td>15144</td>\n",
              "      <td>2481</td>\n",
              "      <td>a***l</td>\n",
              "      <td>0.016393</td>\n",
              "      <td>0.043478</td>\n",
              "      <td>0.0</td>\n",
              "      <td>0.340351</td>\n",
              "      <td>0.217391</td>\n",
              "      <td>0.993593</td>\n",
              "      <td>0.340351</td>\n",
              "      <td>0.000000</td>\n",
              "      <td>7</td>\n",
              "      <td>0</td>\n",
              "    </tr>\n",
              "  </tbody>\n",
              "</table>\n",
              "<p>6321 rows × 13 columns</p>\n",
              "</div>\n",
              "    <div class=\"colab-df-buttons\">\n",
              "\n",
              "  <div class=\"colab-df-container\">\n",
              "    <button class=\"colab-df-convert\" onclick=\"convertToInteractive('df-a0a7bb4c-8ade-4cc9-a9ae-90a46cc0767e')\"\n",
              "            title=\"Convert this dataframe to an interactive table.\"\n",
              "            style=\"display:none;\">\n",
              "\n",
              "  <svg xmlns=\"http://www.w3.org/2000/svg\" height=\"24px\" viewBox=\"0 -960 960 960\">\n",
              "    <path d=\"M120-120v-720h720v720H120Zm60-500h600v-160H180v160Zm220 220h160v-160H400v160Zm0 220h160v-160H400v160ZM180-400h160v-160H180v160Zm440 0h160v-160H620v160ZM180-180h160v-160H180v160Zm440 0h160v-160H620v160Z\"/>\n",
              "  </svg>\n",
              "    </button>\n",
              "\n",
              "  <style>\n",
              "    .colab-df-container {\n",
              "      display:flex;\n",
              "      gap: 12px;\n",
              "    }\n",
              "\n",
              "    .colab-df-convert {\n",
              "      background-color: #E8F0FE;\n",
              "      border: none;\n",
              "      border-radius: 50%;\n",
              "      cursor: pointer;\n",
              "      display: none;\n",
              "      fill: #1967D2;\n",
              "      height: 32px;\n",
              "      padding: 0 0 0 0;\n",
              "      width: 32px;\n",
              "    }\n",
              "\n",
              "    .colab-df-convert:hover {\n",
              "      background-color: #E2EBFA;\n",
              "      box-shadow: 0px 1px 2px rgba(60, 64, 67, 0.3), 0px 1px 3px 1px rgba(60, 64, 67, 0.15);\n",
              "      fill: #174EA6;\n",
              "    }\n",
              "\n",
              "    .colab-df-buttons div {\n",
              "      margin-bottom: 4px;\n",
              "    }\n",
              "\n",
              "    [theme=dark] .colab-df-convert {\n",
              "      background-color: #3B4455;\n",
              "      fill: #D2E3FC;\n",
              "    }\n",
              "\n",
              "    [theme=dark] .colab-df-convert:hover {\n",
              "      background-color: #434B5C;\n",
              "      box-shadow: 0px 1px 3px 1px rgba(0, 0, 0, 0.15);\n",
              "      filter: drop-shadow(0px 1px 2px rgba(0, 0, 0, 0.3));\n",
              "      fill: #FFFFFF;\n",
              "    }\n",
              "  </style>\n",
              "\n",
              "    <script>\n",
              "      const buttonEl =\n",
              "        document.querySelector('#df-a0a7bb4c-8ade-4cc9-a9ae-90a46cc0767e button.colab-df-convert');\n",
              "      buttonEl.style.display =\n",
              "        google.colab.kernel.accessAllowed ? 'block' : 'none';\n",
              "\n",
              "      async function convertToInteractive(key) {\n",
              "        const element = document.querySelector('#df-a0a7bb4c-8ade-4cc9-a9ae-90a46cc0767e');\n",
              "        const dataTable =\n",
              "          await google.colab.kernel.invokeFunction('convertToInteractive',\n",
              "                                                    [key], {});\n",
              "        if (!dataTable) return;\n",
              "\n",
              "        const docLinkHtml = 'Like what you see? Visit the ' +\n",
              "          '<a target=\"_blank\" href=https://colab.research.google.com/notebooks/data_table.ipynb>data table notebook</a>'\n",
              "          + ' to learn more about interactive tables.';\n",
              "        element.innerHTML = '';\n",
              "        dataTable['output_type'] = 'display_data';\n",
              "        await google.colab.output.renderOutput(dataTable, element);\n",
              "        const docLink = document.createElement('div');\n",
              "        docLink.innerHTML = docLinkHtml;\n",
              "        element.appendChild(docLink);\n",
              "      }\n",
              "    </script>\n",
              "  </div>\n",
              "\n",
              "\n",
              "<div id=\"df-cd539a24-d327-4d9a-9b13-c18d35ce0f7b\">\n",
              "  <button class=\"colab-df-quickchart\" onclick=\"quickchart('df-cd539a24-d327-4d9a-9b13-c18d35ce0f7b')\"\n",
              "            title=\"Suggest charts\"\n",
              "            style=\"display:none;\">\n",
              "\n",
              "<svg xmlns=\"http://www.w3.org/2000/svg\" height=\"24px\"viewBox=\"0 0 24 24\"\n",
              "     width=\"24px\">\n",
              "    <g>\n",
              "        <path d=\"M19 3H5c-1.1 0-2 .9-2 2v14c0 1.1.9 2 2 2h14c1.1 0 2-.9 2-2V5c0-1.1-.9-2-2-2zM9 17H7v-7h2v7zm4 0h-2V7h2v10zm4 0h-2v-4h2v4z\"/>\n",
              "    </g>\n",
              "</svg>\n",
              "  </button>\n",
              "\n",
              "<style>\n",
              "  .colab-df-quickchart {\n",
              "      --bg-color: #E8F0FE;\n",
              "      --fill-color: #1967D2;\n",
              "      --hover-bg-color: #E2EBFA;\n",
              "      --hover-fill-color: #174EA6;\n",
              "      --disabled-fill-color: #AAA;\n",
              "      --disabled-bg-color: #DDD;\n",
              "  }\n",
              "\n",
              "  [theme=dark] .colab-df-quickchart {\n",
              "      --bg-color: #3B4455;\n",
              "      --fill-color: #D2E3FC;\n",
              "      --hover-bg-color: #434B5C;\n",
              "      --hover-fill-color: #FFFFFF;\n",
              "      --disabled-bg-color: #3B4455;\n",
              "      --disabled-fill-color: #666;\n",
              "  }\n",
              "\n",
              "  .colab-df-quickchart {\n",
              "    background-color: var(--bg-color);\n",
              "    border: none;\n",
              "    border-radius: 50%;\n",
              "    cursor: pointer;\n",
              "    display: none;\n",
              "    fill: var(--fill-color);\n",
              "    height: 32px;\n",
              "    padding: 0;\n",
              "    width: 32px;\n",
              "  }\n",
              "\n",
              "  .colab-df-quickchart:hover {\n",
              "    background-color: var(--hover-bg-color);\n",
              "    box-shadow: 0 1px 2px rgba(60, 64, 67, 0.3), 0 1px 3px 1px rgba(60, 64, 67, 0.15);\n",
              "    fill: var(--button-hover-fill-color);\n",
              "  }\n",
              "\n",
              "  .colab-df-quickchart-complete:disabled,\n",
              "  .colab-df-quickchart-complete:disabled:hover {\n",
              "    background-color: var(--disabled-bg-color);\n",
              "    fill: var(--disabled-fill-color);\n",
              "    box-shadow: none;\n",
              "  }\n",
              "\n",
              "  .colab-df-spinner {\n",
              "    border: 2px solid var(--fill-color);\n",
              "    border-color: transparent;\n",
              "    border-bottom-color: var(--fill-color);\n",
              "    animation:\n",
              "      spin 1s steps(1) infinite;\n",
              "  }\n",
              "\n",
              "  @keyframes spin {\n",
              "    0% {\n",
              "      border-color: transparent;\n",
              "      border-bottom-color: var(--fill-color);\n",
              "      border-left-color: var(--fill-color);\n",
              "    }\n",
              "    20% {\n",
              "      border-color: transparent;\n",
              "      border-left-color: var(--fill-color);\n",
              "      border-top-color: var(--fill-color);\n",
              "    }\n",
              "    30% {\n",
              "      border-color: transparent;\n",
              "      border-left-color: var(--fill-color);\n",
              "      border-top-color: var(--fill-color);\n",
              "      border-right-color: var(--fill-color);\n",
              "    }\n",
              "    40% {\n",
              "      border-color: transparent;\n",
              "      border-right-color: var(--fill-color);\n",
              "      border-top-color: var(--fill-color);\n",
              "    }\n",
              "    60% {\n",
              "      border-color: transparent;\n",
              "      border-right-color: var(--fill-color);\n",
              "    }\n",
              "    80% {\n",
              "      border-color: transparent;\n",
              "      border-right-color: var(--fill-color);\n",
              "      border-bottom-color: var(--fill-color);\n",
              "    }\n",
              "    90% {\n",
              "      border-color: transparent;\n",
              "      border-bottom-color: var(--fill-color);\n",
              "    }\n",
              "  }\n",
              "</style>\n",
              "\n",
              "  <script>\n",
              "    async function quickchart(key) {\n",
              "      const quickchartButtonEl =\n",
              "        document.querySelector('#' + key + ' button');\n",
              "      quickchartButtonEl.disabled = true;  // To prevent multiple clicks.\n",
              "      quickchartButtonEl.classList.add('colab-df-spinner');\n",
              "      try {\n",
              "        const charts = await google.colab.kernel.invokeFunction(\n",
              "            'suggestCharts', [key], {});\n",
              "      } catch (error) {\n",
              "        console.error('Error during call to suggestCharts:', error);\n",
              "      }\n",
              "      quickchartButtonEl.classList.remove('colab-df-spinner');\n",
              "      quickchartButtonEl.classList.add('colab-df-quickchart-complete');\n",
              "    }\n",
              "    (() => {\n",
              "      let quickchartButtonEl =\n",
              "        document.querySelector('#df-cd539a24-d327-4d9a-9b13-c18d35ce0f7b button');\n",
              "      quickchartButtonEl.style.display =\n",
              "        google.colab.kernel.accessAllowed ? 'block' : 'none';\n",
              "    })();\n",
              "  </script>\n",
              "</div>\n",
              "    </div>\n",
              "  </div>\n"
            ],
            "application/vnd.google.colaboratory.intrinsic+json": {
              "type": "dataframe",
              "variable_name": "df",
              "summary": "{\n  \"name\": \"df\",\n  \"rows\": 6321,\n  \"fields\": [\n    {\n      \"column\": \"Record_ID\",\n      \"properties\": {\n        \"dtype\": \"number\",\n        \"std\": 4364,\n        \"min\": 1,\n        \"max\": 15144,\n        \"num_unique_values\": 6321,\n        \"samples\": [\n          9718,\n          9159,\n          1673\n        ],\n        \"semantic_type\": \"\",\n        \"description\": \"\"\n      }\n    },\n    {\n      \"column\": \"Auction_ID\",\n      \"properties\": {\n        \"dtype\": \"number\",\n        \"std\": 735,\n        \"min\": 5,\n        \"max\": 2538,\n        \"num_unique_values\": 807,\n        \"samples\": [\n          40,\n          629,\n          1366\n        ],\n        \"semantic_type\": \"\",\n        \"description\": \"\"\n      }\n    },\n    {\n      \"column\": \"Bidder_ID\",\n      \"properties\": {\n        \"dtype\": \"category\",\n        \"num_unique_values\": 1054,\n        \"samples\": [\n          \"2***1\",\n          \"-***x\",\n          \"u***5\"\n        ],\n        \"semantic_type\": \"\",\n        \"description\": \"\"\n      }\n    },\n    {\n      \"column\": \"Bidder_Tendency\",\n      \"properties\": {\n        \"dtype\": \"number\",\n        \"std\": 0.19708355531317673,\n        \"min\": 0.0,\n        \"max\": 1.0,\n        \"num_unique_values\": 489,\n        \"samples\": [\n          0.355932203,\n          0.003021148,\n          0.061728395\n        ],\n        \"semantic_type\": \"\",\n        \"description\": \"\"\n      }\n    },\n    {\n      \"column\": \"Bidding_Ratio\",\n      \"properties\": {\n        \"dtype\": \"number\",\n        \"std\": 0.13153042183922645,\n        \"min\": 0.011764706,\n        \"max\": 1.0,\n        \"num_unique_values\": 400,\n        \"samples\": [\n          0.48,\n          0.079365079,\n          0.017241379\n        ],\n        \"semantic_type\": \"\",\n        \"description\": \"\"\n      }\n    },\n    {\n      \"column\": \"Successive_Outbidding\",\n      \"properties\": {\n        \"dtype\": \"number\",\n        \"std\": 0.27969797028898225,\n        \"min\": 0.0,\n        \"max\": 1.0,\n        \"num_unique_values\": 3,\n        \"samples\": [\n          0.0,\n          1.0,\n          0.5\n        ],\n        \"semantic_type\": \"\",\n        \"description\": \"\"\n      }\n    },\n    {\n      \"column\": \"Last_Bidding\",\n      \"properties\": {\n        \"dtype\": \"number\",\n        \"std\": 0.3800972293899528,\n        \"min\": 0.0,\n        \"max\": 0.999900463,\n        \"num_unique_values\": 5807,\n        \"samples\": [\n          0.8190244709,\n          0.9965641534,\n          0.1986203704\n        ],\n        \"semantic_type\": \"\",\n        \"description\": \"\"\n      }\n    },\n    {\n      \"column\": \"Auction_Bids\",\n      \"properties\": {\n        \"dtype\": \"number\",\n        \"std\": 0.25525201465735303,\n        \"min\": 0.0,\n        \"max\": 0.788235294,\n        \"num_unique_values\": 49,\n        \"samples\": [\n          0.4,\n          0.704918033,\n          0.723076923\n        ],\n        \"semantic_type\": \"\",\n        \"description\": \"\"\n      }\n    },\n    {\n      \"column\": \"Starting_Price_Average\",\n      \"properties\": {\n        \"dtype\": \"number\",\n        \"std\": 0.4899121676025466,\n        \"min\": 0.0,\n        \"max\": 0.999935281,\n        \"num_unique_values\": 22,\n        \"samples\": [\n          0.993592814,\n          0.98712091,\n          0.935280953\n        ],\n        \"semantic_type\": \"\",\n        \"description\": \"\"\n      }\n    },\n    {\n      \"column\": \"Early_Bidding\",\n      \"properties\": {\n        \"dtype\": \"number\",\n        \"std\": 0.38078516662003975,\n        \"min\": 0.0,\n        \"max\": 0.999900463,\n        \"num_unique_values\": 5690,\n        \"samples\": [\n          0.2368402778,\n          0.9996990741,\n          0.9631404321\n        ],\n        \"semantic_type\": \"\",\n        \"description\": \"\"\n      }\n    },\n    {\n      \"column\": \"Winning_Ratio\",\n      \"properties\": {\n        \"dtype\": \"number\",\n        \"std\": 0.43657346666169583,\n        \"min\": 0.0,\n        \"max\": 1.0,\n        \"num_unique_values\": 72,\n        \"samples\": [\n          0.8,\n          0.555555556,\n          0.865671642\n        ],\n        \"semantic_type\": \"\",\n        \"description\": \"\"\n      }\n    },\n    {\n      \"column\": \"Auction_Duration\",\n      \"properties\": {\n        \"dtype\": \"number\",\n        \"std\": 2,\n        \"min\": 1,\n        \"max\": 10,\n        \"num_unique_values\": 5,\n        \"samples\": [\n          7,\n          10,\n          1\n        ],\n        \"semantic_type\": \"\",\n        \"description\": \"\"\n      }\n    },\n    {\n      \"column\": \"Class\",\n      \"properties\": {\n        \"dtype\": \"number\",\n        \"std\": 0,\n        \"min\": 0,\n        \"max\": 1,\n        \"num_unique_values\": 2,\n        \"samples\": [\n          1,\n          0\n        ],\n        \"semantic_type\": \"\",\n        \"description\": \"\"\n      }\n    }\n  ]\n}"
            }
          },
          "metadata": {},
          "execution_count": 4
        }
      ]
    },
    {
      "cell_type": "markdown",
      "source": [
        "DATASET DESCRIPTION : Online retailer, eBay is providing an option of bidding to their customers globally. Bidding is employed to find the real price of items in the market based on the demand. The price offered by anyone participating in this process is termed as a 'bid'. Normal bids are classified as ‘0’ bids in the data set and anomalous bids as ‘1’. The goal is to use classification or clustering algorithms to predict the bids in the future.\n",
        "\n",
        "PARANETERS\n",
        "\n",
        "1.Record ID: Unique identifier of a record in the dataset.\n",
        "\n",
        "2.Auction ID: Unique identifier of an auction.\n",
        "\n",
        "3.Bidder ID: Unique identifier of a bidder.\n",
        "\n",
        "4.Bidder Tendency: A shill bidder participates exclusively in auctions of few sellers rather than a diversified lot. This is a collusive act involving the fraudulent seller and an accomplice.\n",
        "\n",
        "5.Bidding Ratio: A shill bidder participates more frequently to raise the auction price and attract higher bids from legitimate participants.\n",
        "\n",
        "6.Successive Outbidding: A shill bidder successively outbids himself even though he is the current winner to increase the price gradually with small consecutive increments.\n",
        "\n",
        "7.Last Bidding: A shill bidder becomes inactive at the last stage of the auction (more than 90% of the auction duration) to avoid winning the auction.\n",
        "\n",
        "8.Auction Bids: Auctions with SB activities tend to have a much higher number of bids than the average of bids in concurrent auctions.\n",
        "\n",
        "9.Auction Starting Price: a shill bidder usually offers a small starting price to attract legitimate bidders into the auction.\n",
        "\n",
        "10.Early Bidding: A shill bidder tends to bid pretty early in the auction (less than 25% of the auction duration) to get the attention of auction users.\n",
        "\n",
        "11.Winning Ratio: A shill bidder competes in many auctions but hardly wins any auctions.\n",
        "\n",
        "12.Auction Duration: How long an auction lasted.\n",
        "\n",
        "Class: 0 for normal behaviour bidding; 1 for otherwise."
      ],
      "metadata": {
        "id": "mJziM66jogw1"
      }
    },
    {
      "cell_type": "code",
      "source": [
        "df.info()"
      ],
      "metadata": {
        "colab": {
          "base_uri": "https://localhost:8080/"
        },
        "id": "6niXC_nMXWga",
        "outputId": "c914096d-c547-4832-da2d-2b9bcc5f48d3"
      },
      "execution_count": null,
      "outputs": [
        {
          "output_type": "stream",
          "name": "stdout",
          "text": [
            "<class 'pandas.core.frame.DataFrame'>\n",
            "RangeIndex: 6321 entries, 0 to 6320\n",
            "Data columns (total 13 columns):\n",
            " #   Column                  Non-Null Count  Dtype  \n",
            "---  ------                  --------------  -----  \n",
            " 0   Record_ID               6321 non-null   int64  \n",
            " 1   Auction_ID              6321 non-null   int64  \n",
            " 2   Bidder_ID               6321 non-null   object \n",
            " 3   Bidder_Tendency         6321 non-null   float64\n",
            " 4   Bidding_Ratio           6321 non-null   float64\n",
            " 5   Successive_Outbidding   6321 non-null   float64\n",
            " 6   Last_Bidding            6321 non-null   float64\n",
            " 7   Auction_Bids            6321 non-null   float64\n",
            " 8   Starting_Price_Average  6321 non-null   float64\n",
            " 9   Early_Bidding           6321 non-null   float64\n",
            " 10  Winning_Ratio           6321 non-null   float64\n",
            " 11  Auction_Duration        6321 non-null   int64  \n",
            " 12  Class                   6321 non-null   int64  \n",
            "dtypes: float64(8), int64(4), object(1)\n",
            "memory usage: 642.1+ KB\n"
          ]
        }
      ]
    },
    {
      "cell_type": "markdown",
      "source": [
        "We can see that overall the dataset consists of numerical data with one column represented by 'object' data type. Data size is 6321 rows and 12 columns. We also don't have nay missing values."
      ],
      "metadata": {
        "id": "K2ZC2OMlm-Ca"
      }
    },
    {
      "cell_type": "code",
      "source": [
        "df.describe()"
      ],
      "metadata": {
        "colab": {
          "base_uri": "https://localhost:8080/",
          "height": 320
        },
        "id": "pvQndrRNXatu",
        "outputId": "14e9dbd2-1350-4a3c-e437-fa7969b32b69"
      },
      "execution_count": null,
      "outputs": [
        {
          "output_type": "execute_result",
          "data": {
            "text/plain": [
              "          Record_ID   Auction_ID  Bidder_Tendency  Bidding_Ratio  \\\n",
              "count   6321.000000  6321.000000      6321.000000    6321.000000   \n",
              "mean    7535.829457  1241.388230         0.142541       0.127670   \n",
              "std     4364.759137   735.770789         0.197084       0.131530   \n",
              "min        1.000000     5.000000         0.000000       0.011765   \n",
              "25%     3778.000000   589.000000         0.027027       0.043478   \n",
              "50%     7591.000000  1246.000000         0.062500       0.083333   \n",
              "75%    11277.000000  1867.000000         0.166667       0.166667   \n",
              "max    15144.000000  2538.000000         1.000000       1.000000   \n",
              "\n",
              "       Successive_Outbidding  Last_Bidding  Auction_Bids  \\\n",
              "count            6321.000000   6321.000000   6321.000000   \n",
              "mean                0.103781      0.463119      0.231606   \n",
              "std                 0.279698      0.380097      0.255252   \n",
              "min                 0.000000      0.000000      0.000000   \n",
              "25%                 0.000000      0.047928      0.000000   \n",
              "50%                 0.000000      0.440937      0.142857   \n",
              "75%                 0.000000      0.860363      0.454545   \n",
              "max                 1.000000      0.999900      0.788235   \n",
              "\n",
              "       Starting_Price_Average  Early_Bidding  Winning_Ratio  Auction_Duration  \\\n",
              "count             6321.000000    6321.000000    6321.000000       6321.000000   \n",
              "mean                 0.472821       0.430683       0.367731          4.615093   \n",
              "std                  0.489912       0.380785       0.436573          2.466629   \n",
              "min                  0.000000       0.000000       0.000000          1.000000   \n",
              "25%                  0.000000       0.026620       0.000000          3.000000   \n",
              "50%                  0.000000       0.360104       0.000000          5.000000   \n",
              "75%                  0.993593       0.826761       0.851852          7.000000   \n",
              "max                  0.999935       0.999900       1.000000         10.000000   \n",
              "\n",
              "             Class  \n",
              "count  6321.000000  \n",
              "mean      0.106787  \n",
              "std       0.308867  \n",
              "min       0.000000  \n",
              "25%       0.000000  \n",
              "50%       0.000000  \n",
              "75%       0.000000  \n",
              "max       1.000000  "
            ],
            "text/html": [
              "\n",
              "  <div id=\"df-f0cd60f5-f616-47a8-9297-7d3fc8341003\" class=\"colab-df-container\">\n",
              "    <div>\n",
              "<style scoped>\n",
              "    .dataframe tbody tr th:only-of-type {\n",
              "        vertical-align: middle;\n",
              "    }\n",
              "\n",
              "    .dataframe tbody tr th {\n",
              "        vertical-align: top;\n",
              "    }\n",
              "\n",
              "    .dataframe thead th {\n",
              "        text-align: right;\n",
              "    }\n",
              "</style>\n",
              "<table border=\"1\" class=\"dataframe\">\n",
              "  <thead>\n",
              "    <tr style=\"text-align: right;\">\n",
              "      <th></th>\n",
              "      <th>Record_ID</th>\n",
              "      <th>Auction_ID</th>\n",
              "      <th>Bidder_Tendency</th>\n",
              "      <th>Bidding_Ratio</th>\n",
              "      <th>Successive_Outbidding</th>\n",
              "      <th>Last_Bidding</th>\n",
              "      <th>Auction_Bids</th>\n",
              "      <th>Starting_Price_Average</th>\n",
              "      <th>Early_Bidding</th>\n",
              "      <th>Winning_Ratio</th>\n",
              "      <th>Auction_Duration</th>\n",
              "      <th>Class</th>\n",
              "    </tr>\n",
              "  </thead>\n",
              "  <tbody>\n",
              "    <tr>\n",
              "      <th>count</th>\n",
              "      <td>6321.000000</td>\n",
              "      <td>6321.000000</td>\n",
              "      <td>6321.000000</td>\n",
              "      <td>6321.000000</td>\n",
              "      <td>6321.000000</td>\n",
              "      <td>6321.000000</td>\n",
              "      <td>6321.000000</td>\n",
              "      <td>6321.000000</td>\n",
              "      <td>6321.000000</td>\n",
              "      <td>6321.000000</td>\n",
              "      <td>6321.000000</td>\n",
              "      <td>6321.000000</td>\n",
              "    </tr>\n",
              "    <tr>\n",
              "      <th>mean</th>\n",
              "      <td>7535.829457</td>\n",
              "      <td>1241.388230</td>\n",
              "      <td>0.142541</td>\n",
              "      <td>0.127670</td>\n",
              "      <td>0.103781</td>\n",
              "      <td>0.463119</td>\n",
              "      <td>0.231606</td>\n",
              "      <td>0.472821</td>\n",
              "      <td>0.430683</td>\n",
              "      <td>0.367731</td>\n",
              "      <td>4.615093</td>\n",
              "      <td>0.106787</td>\n",
              "    </tr>\n",
              "    <tr>\n",
              "      <th>std</th>\n",
              "      <td>4364.759137</td>\n",
              "      <td>735.770789</td>\n",
              "      <td>0.197084</td>\n",
              "      <td>0.131530</td>\n",
              "      <td>0.279698</td>\n",
              "      <td>0.380097</td>\n",
              "      <td>0.255252</td>\n",
              "      <td>0.489912</td>\n",
              "      <td>0.380785</td>\n",
              "      <td>0.436573</td>\n",
              "      <td>2.466629</td>\n",
              "      <td>0.308867</td>\n",
              "    </tr>\n",
              "    <tr>\n",
              "      <th>min</th>\n",
              "      <td>1.000000</td>\n",
              "      <td>5.000000</td>\n",
              "      <td>0.000000</td>\n",
              "      <td>0.011765</td>\n",
              "      <td>0.000000</td>\n",
              "      <td>0.000000</td>\n",
              "      <td>0.000000</td>\n",
              "      <td>0.000000</td>\n",
              "      <td>0.000000</td>\n",
              "      <td>0.000000</td>\n",
              "      <td>1.000000</td>\n",
              "      <td>0.000000</td>\n",
              "    </tr>\n",
              "    <tr>\n",
              "      <th>25%</th>\n",
              "      <td>3778.000000</td>\n",
              "      <td>589.000000</td>\n",
              "      <td>0.027027</td>\n",
              "      <td>0.043478</td>\n",
              "      <td>0.000000</td>\n",
              "      <td>0.047928</td>\n",
              "      <td>0.000000</td>\n",
              "      <td>0.000000</td>\n",
              "      <td>0.026620</td>\n",
              "      <td>0.000000</td>\n",
              "      <td>3.000000</td>\n",
              "      <td>0.000000</td>\n",
              "    </tr>\n",
              "    <tr>\n",
              "      <th>50%</th>\n",
              "      <td>7591.000000</td>\n",
              "      <td>1246.000000</td>\n",
              "      <td>0.062500</td>\n",
              "      <td>0.083333</td>\n",
              "      <td>0.000000</td>\n",
              "      <td>0.440937</td>\n",
              "      <td>0.142857</td>\n",
              "      <td>0.000000</td>\n",
              "      <td>0.360104</td>\n",
              "      <td>0.000000</td>\n",
              "      <td>5.000000</td>\n",
              "      <td>0.000000</td>\n",
              "    </tr>\n",
              "    <tr>\n",
              "      <th>75%</th>\n",
              "      <td>11277.000000</td>\n",
              "      <td>1867.000000</td>\n",
              "      <td>0.166667</td>\n",
              "      <td>0.166667</td>\n",
              "      <td>0.000000</td>\n",
              "      <td>0.860363</td>\n",
              "      <td>0.454545</td>\n",
              "      <td>0.993593</td>\n",
              "      <td>0.826761</td>\n",
              "      <td>0.851852</td>\n",
              "      <td>7.000000</td>\n",
              "      <td>0.000000</td>\n",
              "    </tr>\n",
              "    <tr>\n",
              "      <th>max</th>\n",
              "      <td>15144.000000</td>\n",
              "      <td>2538.000000</td>\n",
              "      <td>1.000000</td>\n",
              "      <td>1.000000</td>\n",
              "      <td>1.000000</td>\n",
              "      <td>0.999900</td>\n",
              "      <td>0.788235</td>\n",
              "      <td>0.999935</td>\n",
              "      <td>0.999900</td>\n",
              "      <td>1.000000</td>\n",
              "      <td>10.000000</td>\n",
              "      <td>1.000000</td>\n",
              "    </tr>\n",
              "  </tbody>\n",
              "</table>\n",
              "</div>\n",
              "    <div class=\"colab-df-buttons\">\n",
              "\n",
              "  <div class=\"colab-df-container\">\n",
              "    <button class=\"colab-df-convert\" onclick=\"convertToInteractive('df-f0cd60f5-f616-47a8-9297-7d3fc8341003')\"\n",
              "            title=\"Convert this dataframe to an interactive table.\"\n",
              "            style=\"display:none;\">\n",
              "\n",
              "  <svg xmlns=\"http://www.w3.org/2000/svg\" height=\"24px\" viewBox=\"0 -960 960 960\">\n",
              "    <path d=\"M120-120v-720h720v720H120Zm60-500h600v-160H180v160Zm220 220h160v-160H400v160Zm0 220h160v-160H400v160ZM180-400h160v-160H180v160Zm440 0h160v-160H620v160ZM180-180h160v-160H180v160Zm440 0h160v-160H620v160Z\"/>\n",
              "  </svg>\n",
              "    </button>\n",
              "\n",
              "  <style>\n",
              "    .colab-df-container {\n",
              "      display:flex;\n",
              "      gap: 12px;\n",
              "    }\n",
              "\n",
              "    .colab-df-convert {\n",
              "      background-color: #E8F0FE;\n",
              "      border: none;\n",
              "      border-radius: 50%;\n",
              "      cursor: pointer;\n",
              "      display: none;\n",
              "      fill: #1967D2;\n",
              "      height: 32px;\n",
              "      padding: 0 0 0 0;\n",
              "      width: 32px;\n",
              "    }\n",
              "\n",
              "    .colab-df-convert:hover {\n",
              "      background-color: #E2EBFA;\n",
              "      box-shadow: 0px 1px 2px rgba(60, 64, 67, 0.3), 0px 1px 3px 1px rgba(60, 64, 67, 0.15);\n",
              "      fill: #174EA6;\n",
              "    }\n",
              "\n",
              "    .colab-df-buttons div {\n",
              "      margin-bottom: 4px;\n",
              "    }\n",
              "\n",
              "    [theme=dark] .colab-df-convert {\n",
              "      background-color: #3B4455;\n",
              "      fill: #D2E3FC;\n",
              "    }\n",
              "\n",
              "    [theme=dark] .colab-df-convert:hover {\n",
              "      background-color: #434B5C;\n",
              "      box-shadow: 0px 1px 3px 1px rgba(0, 0, 0, 0.15);\n",
              "      filter: drop-shadow(0px 1px 2px rgba(0, 0, 0, 0.3));\n",
              "      fill: #FFFFFF;\n",
              "    }\n",
              "  </style>\n",
              "\n",
              "    <script>\n",
              "      const buttonEl =\n",
              "        document.querySelector('#df-f0cd60f5-f616-47a8-9297-7d3fc8341003 button.colab-df-convert');\n",
              "      buttonEl.style.display =\n",
              "        google.colab.kernel.accessAllowed ? 'block' : 'none';\n",
              "\n",
              "      async function convertToInteractive(key) {\n",
              "        const element = document.querySelector('#df-f0cd60f5-f616-47a8-9297-7d3fc8341003');\n",
              "        const dataTable =\n",
              "          await google.colab.kernel.invokeFunction('convertToInteractive',\n",
              "                                                    [key], {});\n",
              "        if (!dataTable) return;\n",
              "\n",
              "        const docLinkHtml = 'Like what you see? Visit the ' +\n",
              "          '<a target=\"_blank\" href=https://colab.research.google.com/notebooks/data_table.ipynb>data table notebook</a>'\n",
              "          + ' to learn more about interactive tables.';\n",
              "        element.innerHTML = '';\n",
              "        dataTable['output_type'] = 'display_data';\n",
              "        await google.colab.output.renderOutput(dataTable, element);\n",
              "        const docLink = document.createElement('div');\n",
              "        docLink.innerHTML = docLinkHtml;\n",
              "        element.appendChild(docLink);\n",
              "      }\n",
              "    </script>\n",
              "  </div>\n",
              "\n",
              "\n",
              "<div id=\"df-e1f077eb-dc3d-4b21-b87e-462f57331f9a\">\n",
              "  <button class=\"colab-df-quickchart\" onclick=\"quickchart('df-e1f077eb-dc3d-4b21-b87e-462f57331f9a')\"\n",
              "            title=\"Suggest charts\"\n",
              "            style=\"display:none;\">\n",
              "\n",
              "<svg xmlns=\"http://www.w3.org/2000/svg\" height=\"24px\"viewBox=\"0 0 24 24\"\n",
              "     width=\"24px\">\n",
              "    <g>\n",
              "        <path d=\"M19 3H5c-1.1 0-2 .9-2 2v14c0 1.1.9 2 2 2h14c1.1 0 2-.9 2-2V5c0-1.1-.9-2-2-2zM9 17H7v-7h2v7zm4 0h-2V7h2v10zm4 0h-2v-4h2v4z\"/>\n",
              "    </g>\n",
              "</svg>\n",
              "  </button>\n",
              "\n",
              "<style>\n",
              "  .colab-df-quickchart {\n",
              "      --bg-color: #E8F0FE;\n",
              "      --fill-color: #1967D2;\n",
              "      --hover-bg-color: #E2EBFA;\n",
              "      --hover-fill-color: #174EA6;\n",
              "      --disabled-fill-color: #AAA;\n",
              "      --disabled-bg-color: #DDD;\n",
              "  }\n",
              "\n",
              "  [theme=dark] .colab-df-quickchart {\n",
              "      --bg-color: #3B4455;\n",
              "      --fill-color: #D2E3FC;\n",
              "      --hover-bg-color: #434B5C;\n",
              "      --hover-fill-color: #FFFFFF;\n",
              "      --disabled-bg-color: #3B4455;\n",
              "      --disabled-fill-color: #666;\n",
              "  }\n",
              "\n",
              "  .colab-df-quickchart {\n",
              "    background-color: var(--bg-color);\n",
              "    border: none;\n",
              "    border-radius: 50%;\n",
              "    cursor: pointer;\n",
              "    display: none;\n",
              "    fill: var(--fill-color);\n",
              "    height: 32px;\n",
              "    padding: 0;\n",
              "    width: 32px;\n",
              "  }\n",
              "\n",
              "  .colab-df-quickchart:hover {\n",
              "    background-color: var(--hover-bg-color);\n",
              "    box-shadow: 0 1px 2px rgba(60, 64, 67, 0.3), 0 1px 3px 1px rgba(60, 64, 67, 0.15);\n",
              "    fill: var(--button-hover-fill-color);\n",
              "  }\n",
              "\n",
              "  .colab-df-quickchart-complete:disabled,\n",
              "  .colab-df-quickchart-complete:disabled:hover {\n",
              "    background-color: var(--disabled-bg-color);\n",
              "    fill: var(--disabled-fill-color);\n",
              "    box-shadow: none;\n",
              "  }\n",
              "\n",
              "  .colab-df-spinner {\n",
              "    border: 2px solid var(--fill-color);\n",
              "    border-color: transparent;\n",
              "    border-bottom-color: var(--fill-color);\n",
              "    animation:\n",
              "      spin 1s steps(1) infinite;\n",
              "  }\n",
              "\n",
              "  @keyframes spin {\n",
              "    0% {\n",
              "      border-color: transparent;\n",
              "      border-bottom-color: var(--fill-color);\n",
              "      border-left-color: var(--fill-color);\n",
              "    }\n",
              "    20% {\n",
              "      border-color: transparent;\n",
              "      border-left-color: var(--fill-color);\n",
              "      border-top-color: var(--fill-color);\n",
              "    }\n",
              "    30% {\n",
              "      border-color: transparent;\n",
              "      border-left-color: var(--fill-color);\n",
              "      border-top-color: var(--fill-color);\n",
              "      border-right-color: var(--fill-color);\n",
              "    }\n",
              "    40% {\n",
              "      border-color: transparent;\n",
              "      border-right-color: var(--fill-color);\n",
              "      border-top-color: var(--fill-color);\n",
              "    }\n",
              "    60% {\n",
              "      border-color: transparent;\n",
              "      border-right-color: var(--fill-color);\n",
              "    }\n",
              "    80% {\n",
              "      border-color: transparent;\n",
              "      border-right-color: var(--fill-color);\n",
              "      border-bottom-color: var(--fill-color);\n",
              "    }\n",
              "    90% {\n",
              "      border-color: transparent;\n",
              "      border-bottom-color: var(--fill-color);\n",
              "    }\n",
              "  }\n",
              "</style>\n",
              "\n",
              "  <script>\n",
              "    async function quickchart(key) {\n",
              "      const quickchartButtonEl =\n",
              "        document.querySelector('#' + key + ' button');\n",
              "      quickchartButtonEl.disabled = true;  // To prevent multiple clicks.\n",
              "      quickchartButtonEl.classList.add('colab-df-spinner');\n",
              "      try {\n",
              "        const charts = await google.colab.kernel.invokeFunction(\n",
              "            'suggestCharts', [key], {});\n",
              "      } catch (error) {\n",
              "        console.error('Error during call to suggestCharts:', error);\n",
              "      }\n",
              "      quickchartButtonEl.classList.remove('colab-df-spinner');\n",
              "      quickchartButtonEl.classList.add('colab-df-quickchart-complete');\n",
              "    }\n",
              "    (() => {\n",
              "      let quickchartButtonEl =\n",
              "        document.querySelector('#df-e1f077eb-dc3d-4b21-b87e-462f57331f9a button');\n",
              "      quickchartButtonEl.style.display =\n",
              "        google.colab.kernel.accessAllowed ? 'block' : 'none';\n",
              "    })();\n",
              "  </script>\n",
              "</div>\n",
              "    </div>\n",
              "  </div>\n"
            ],
            "application/vnd.google.colaboratory.intrinsic+json": {
              "type": "dataframe",
              "summary": "{\n  \"name\": \"df\",\n  \"rows\": 8,\n  \"fields\": [\n    {\n      \"column\": \"Record_ID\",\n      \"properties\": {\n        \"dtype\": \"number\",\n        \"std\": 4660.267616529457,\n        \"min\": 1.0,\n        \"max\": 15144.0,\n        \"num_unique_values\": 8,\n        \"samples\": [\n          7535.829457364341,\n          7591.0,\n          6321.0\n        ],\n        \"semantic_type\": \"\",\n        \"description\": \"\"\n      }\n    },\n    {\n      \"column\": \"Auction_ID\",\n      \"properties\": {\n        \"dtype\": \"number\",\n        \"std\": 1979.397639625717,\n        \"min\": 5.0,\n        \"max\": 6321.0,\n        \"num_unique_values\": 8,\n        \"samples\": [\n          1241.3882297104888,\n          1246.0,\n          6321.0\n        ],\n        \"semantic_type\": \"\",\n        \"description\": \"\"\n      }\n    },\n    {\n      \"column\": \"Bidder_Tendency\",\n      \"properties\": {\n        \"dtype\": \"number\",\n        \"std\": 2234.7304042217474,\n        \"min\": 0.0,\n        \"max\": 6321.0,\n        \"num_unique_values\": 8,\n        \"samples\": [\n          0.14254073723714603,\n          0.0625,\n          6321.0\n        ],\n        \"semantic_type\": \"\",\n        \"description\": \"\"\n      }\n    },\n    {\n      \"column\": \"Bidding_Ratio\",\n      \"properties\": {\n        \"dtype\": \"number\",\n        \"std\": 2234.7319886691353,\n        \"min\": 0.011764706,\n        \"max\": 6321.0,\n        \"num_unique_values\": 8,\n        \"samples\": [\n          0.12766967254864736,\n          0.083333333,\n          6321.0\n        ],\n        \"semantic_type\": \"\",\n        \"description\": \"\"\n      }\n    },\n    {\n      \"column\": \"Successive_Outbidding\",\n      \"properties\": {\n        \"dtype\": \"number\",\n        \"std\": 2234.7411317655096,\n        \"min\": 0.0,\n        \"max\": 6321.0,\n        \"num_unique_values\": 5,\n        \"samples\": [\n          0.10378104730264198,\n          1.0,\n          0.27969797028898225\n        ],\n        \"semantic_type\": \"\",\n        \"description\": \"\"\n      }\n    },\n    {\n      \"column\": \"Last_Bidding\",\n      \"properties\": {\n        \"dtype\": \"number\",\n        \"std\": 2234.6497709899318,\n        \"min\": 0.0,\n        \"max\": 6321.0,\n        \"num_unique_values\": 8,\n        \"samples\": [\n          0.46311937700692923,\n          0.4409375,\n          6321.0\n        ],\n        \"semantic_type\": \"\",\n        \"description\": \"\"\n      }\n    },\n    {\n      \"column\": \"Auction_Bids\",\n      \"properties\": {\n        \"dtype\": \"number\",\n        \"std\": 2234.716421529985,\n        \"min\": 0.0,\n        \"max\": 6321.0,\n        \"num_unique_values\": 7,\n        \"samples\": [\n          6321.0,\n          0.23160574843537413,\n          0.454545455\n        ],\n        \"semantic_type\": \"\",\n        \"description\": \"\"\n      }\n    },\n    {\n      \"column\": \"Starting_Price_Average\",\n      \"properties\": {\n        \"dtype\": \"number\",\n        \"std\": 2234.6617066071994,\n        \"min\": 0.0,\n        \"max\": 6321.0,\n        \"num_unique_values\": 6,\n        \"samples\": [\n          6321.0,\n          0.47282134135611453,\n          0.999935281\n        ],\n        \"semantic_type\": \"\",\n        \"description\": \"\"\n      }\n    },\n    {\n      \"column\": \"Early_Bidding\",\n      \"properties\": {\n        \"dtype\": \"number\",\n        \"std\": 2234.658230525338,\n        \"min\": 0.0,\n        \"max\": 6321.0,\n        \"num_unique_values\": 8,\n        \"samples\": [\n          0.43068255131901595,\n          0.3601041667,\n          6321.0\n        ],\n        \"semantic_type\": \"\",\n        \"description\": \"\"\n      }\n    },\n    {\n      \"column\": \"Winning_Ratio\",\n      \"properties\": {\n        \"dtype\": \"number\",\n        \"std\": 2234.6768591339674,\n        \"min\": 0.0,\n        \"max\": 6321.0,\n        \"num_unique_values\": 6,\n        \"samples\": [\n          6321.0,\n          0.36773119853187786,\n          1.0\n        ],\n        \"semantic_type\": \"\",\n        \"description\": \"\"\n      }\n    },\n    {\n      \"column\": \"Auction_Duration\",\n      \"properties\": {\n        \"dtype\": \"number\",\n        \"std\": 2233.1418631776255,\n        \"min\": 1.0,\n        \"max\": 6321.0,\n        \"num_unique_values\": 8,\n        \"samples\": [\n          4.6150925486473655,\n          5.0,\n          6321.0\n        ],\n        \"semantic_type\": \"\",\n        \"description\": \"\"\n      }\n    },\n    {\n      \"column\": \"Class\",\n      \"properties\": {\n        \"dtype\": \"number\",\n        \"std\": 2234.73950686855,\n        \"min\": 0.0,\n        \"max\": 6321.0,\n        \"num_unique_values\": 5,\n        \"samples\": [\n          0.10678690080683437,\n          1.0,\n          0.30886655847195243\n        ],\n        \"semantic_type\": \"\",\n        \"description\": \"\"\n      }\n    }\n  ]\n}"
            }
          },
          "metadata": {},
          "execution_count": 6
        }
      ]
    },
    {
      "cell_type": "markdown",
      "source": [
        "From the table above we can observe, that values range from 0 to 1 for each feature except Auction_Duration and Auction_ID. Last_Bidding and Auction_Duration seem to follow a normal distribution. Also, I can infer that Winning_Ratio and Successive_Outbidding have lots of observations cluster around either 0 or 1 values. And the dependent variable Class is more represented by 0 class than 1 as mean equals 0.1."
      ],
      "metadata": {
        "id": "NowEZOc2luWq"
      }
    },
    {
      "cell_type": "markdown",
      "source": [
        "Apply EDA"
      ],
      "metadata": {
        "id": "vz_QR9jbXnIZ"
      }
    },
    {
      "cell_type": "code",
      "source": [
        "sns.countplot(df['Class'])\n",
        "print(plt.show())\n",
        "print(df.Class.value_counts())"
      ],
      "metadata": {
        "colab": {
          "base_uri": "https://localhost:8080/",
          "height": 517
        },
        "id": "VFF22L3YXiX7",
        "outputId": "b9362f23-5db4-4cba-f7b7-89ee0e1c733e"
      },
      "execution_count": null,
      "outputs": [
        {
          "output_type": "display_data",
          "data": {
            "text/plain": [
              "<Figure size 640x480 with 1 Axes>"
            ],
            "image/png": "[encoded data removed]"
          },
          "metadata": {}
        },
        {
          "output_type": "stream",
          "name": "stdout",
          "text": [
            "None\n",
            "Class\n",
            "0    5646\n",
            "1     675\n",
            "Name: count, dtype: int64\n"
          ]
        }
      ]
    },
    {
      "cell_type": "markdown",
      "source": [
        "With the graph as well as with the value_counts we can confirm that 0 class has 5646 entries while 1 class has only 675 entries.\n",
        "\n",
        "As the only one object feature we have is a bidder name I want to see if I have any unique values and then decide if we need to keep the feature."
      ],
      "metadata": {
        "id": "UvSqcSBVpJP8"
      }
    },
    {
      "cell_type": "code",
      "source": [
        "df.Bidder_ID.value_counts()"
      ],
      "metadata": {
        "colab": {
          "base_uri": "https://localhost:8080/"
        },
        "id": "JPQ1zi1BXsQe",
        "outputId": "d413509b-3616-42b4-a705-a27476b73f87"
      },
      "execution_count": null,
      "outputs": [
        {
          "output_type": "execute_result",
          "data": {
            "text/plain": [
              "Bidder_ID\n",
              "a***a    112\n",
              "n***t     85\n",
              "e***e     67\n",
              "i***a     50\n",
              "r***r     49\n",
              "        ... \n",
              "n***y      1\n",
              "u***z      1\n",
              "t***9      1\n",
              "z***b      1\n",
              "9***7      1\n",
              "Name: count, Length: 1054, dtype: int64"
            ]
          },
          "metadata": {},
          "execution_count": 8
        }
      ]
    },
    {
      "cell_type": "markdown",
      "source": [
        "We can observe that we have 1054 unique values."
      ],
      "metadata": {
        "id": "s69duCKppS9V"
      }
    },
    {
      "cell_type": "code",
      "source": [
        "df = df.drop(columns='Bidder_ID')"
      ],
      "metadata": {
        "id": "AsB8cCG8YCfk"
      },
      "execution_count": null,
      "outputs": []
    },
    {
      "cell_type": "code",
      "source": [
        "df.drop('Class', axis=1).plot(kind='box', subplots=True, layout=(6,2), sharex=False, sharey=False, figsize=(10,10), title='Box Plot for each input variable')\n",
        "plt.show()"
      ],
      "metadata": {
        "colab": {
          "base_uri": "https://localhost:8080/",
          "height": 930
        },
        "id": "FsK3BjaOYEp1",
        "outputId": "c28fcb3e-b161-4f43-9ed6-27950aa31c67"
      },
      "execution_count": null,
      "outputs": [
        {
          "output_type": "display_data",
          "data": {
            "text/plain": [
              "<Figure size 1000x1000 with 12 Axes>"
            ],
            "image/png": "[encoded data removed]"
          },
          "metadata": {}
        }
      ]
    },
    {
      "cell_type": "markdown",
      "source": [
        "Bidder_Tendency and Bidding_Ratio have many outliers.\n",
        "Auction_ID, Last_Bidding, Early_Bidding and Auction_Duration have followed normal distribution.\n",
        "It has been infered earlier that Winning_Ratio and Starting_Price_Average have values mostly clustered around 0 and 1.\n",
        "3rd parameter is Successive_Outbidding as it shows that we migh have outliers."
      ],
      "metadata": {
        "id": "jm48-LEXpgu4"
      }
    },
    {
      "cell_type": "code",
      "source": [
        "print(sns.kdeplot(data=df, x='Winning_Ratio', color='r', shade=True))\n",
        "print(sns.kdeplot(data=df, x='Starting_Price_Average', color='y', shade=True))\n",
        "print(sns.kdeplot(data=df, x='Successive_Outbidding', color='b', shade=True))\n",
        "\n",
        "plt.xlabel('KDE')\n",
        "plt.ylabel('Probability Density')"
      ],
      "metadata": {
        "colab": {
          "base_uri": "https://localhost:8080/",
          "height": 518
        },
        "id": "zwtDlwaxYHDI",
        "outputId": "f1c26b43-264c-404d-c048-163f0789a366"
      },
      "execution_count": null,
      "outputs": [
        {
          "output_type": "stream",
          "name": "stdout",
          "text": [
            "Axes(0.125,0.11;0.775x0.77)\n",
            "Axes(0.125,0.11;0.775x0.77)\n",
            "Axes(0.125,0.11;0.775x0.77)\n"
          ]
        },
        {
          "output_type": "execute_result",
          "data": {
            "text/plain": [
              "Text(0, 0.5, 'Probability Density')"
            ]
          },
          "metadata": {},
          "execution_count": 11
        },
        {
          "output_type": "display_data",
          "data": {
            "text/plain": [
              "<Figure size 640x480 with 1 Axes>"
            ],
            "image/png": "[encoded data removed]"
          },
          "metadata": {}
        }
      ]
    },
    {
      "cell_type": "markdown",
      "source": [
        "As for Successive_Outbidding variable, it's not ouliers but data is represented by only 3 values 0, 0.5 and 1. As number of 0 values are drastically higher than 0.5 and 1 it shows the values as outliers."
      ],
      "metadata": {
        "id": "8YBLxHNAq0DO"
      }
    },
    {
      "cell_type": "code",
      "source": [
        "print(df.Successive_Outbidding.value_counts())\n",
        "print(df.Successive_Outbidding.describe())\n",
        "print(sns.boxplot(data=df, x='Successive_Outbidding'))"
      ],
      "metadata": {
        "colab": {
          "base_uri": "https://localhost:8080/",
          "height": 710
        },
        "id": "ezEoFkeGYKUe",
        "outputId": "4820b1f7-c529-4979-fd52-466e9b21e40e"
      },
      "execution_count": null,
      "outputs": [
        {
          "output_type": "stream",
          "name": "stdout",
          "text": [
            "Successive_Outbidding\n",
            "0.0    5478\n",
            "1.0     469\n",
            "0.5     374\n",
            "Name: count, dtype: int64\n",
            "count    6321.000000\n",
            "mean        0.103781\n",
            "std         0.279698\n",
            "min         0.000000\n",
            "25%         0.000000\n",
            "50%         0.000000\n",
            "75%         0.000000\n",
            "max         1.000000\n",
            "Name: Successive_Outbidding, dtype: float64\n",
            "Axes(0.125,0.11;0.775x0.77)\n"
          ]
        },
        {
          "output_type": "display_data",
          "data": {
            "text/plain": [
              "<Figure size 640x480 with 1 Axes>"
            ],
            "image/png": "[encoded data removed]"
          },
          "metadata": {}
        }
      ]
    },
    {
      "cell_type": "markdown",
      "source": [
        "3. Data Preparation"
      ],
      "metadata": {
        "id": "HKFbVm-LYUTe"
      }
    },
    {
      "cell_type": "code",
      "source": [
        "df1 = df[['Auction_ID','Auction_Duration']]\n",
        "df2 = df.drop(columns = ['Auction_ID','Auction_Duration'])\n",
        "minmax = MinMaxScaler().fit(df1)\n",
        "minmax = minmax.transform(df1)"
      ],
      "metadata": {
        "id": "cFFxM02OYNd8"
      },
      "execution_count": null,
      "outputs": []
    },
    {
      "cell_type": "code",
      "source": [
        "df2 = df2.reset_index()"
      ],
      "metadata": {
        "id": "v7Tj-wjwY8ob"
      },
      "execution_count": null,
      "outputs": []
    },
    {
      "cell_type": "code",
      "source": [
        "df1 = pd.DataFrame(minmax, columns = ['Auction_ID','Auction_Duration'])\n",
        "df1"
      ],
      "metadata": {
        "colab": {
          "base_uri": "https://localhost:8080/",
          "height": 423
        },
        "id": "AOBpuuvFY_ad",
        "outputId": "4b073191-f72b-4cd9-8791-2f9fc561fdbd"
      },
      "execution_count": null,
      "outputs": [
        {
          "output_type": "execute_result",
          "data": {
            "text/plain": [
              "      Auction_ID  Auction_Duration\n",
              "0       0.287011          0.444444\n",
              "1       0.287011          0.444444\n",
              "2       0.287011          0.444444\n",
              "3       0.287011          0.444444\n",
              "4       0.353336          0.666667\n",
              "...          ...               ...\n",
              "6316    0.298066          0.222222\n",
              "6317    0.977497          0.666667\n",
              "6318    0.977497          0.666667\n",
              "6319    0.977497          0.666667\n",
              "6320    0.977497          0.666667\n",
              "\n",
              "[6321 rows x 2 columns]"
            ],
            "text/html": [
              "\n",
              "  <div id=\"df-cfca4bc8-03eb-4d2c-adda-a0a506a50a9c\" class=\"colab-df-container\">\n",
              "    <div>\n",
              "<style scoped>\n",
              "    .dataframe tbody tr th:only-of-type {\n",
              "        vertical-align: middle;\n",
              "    }\n",
              "\n",
              "    .dataframe tbody tr th {\n",
              "        vertical-align: top;\n",
              "    }\n",
              "\n",
              "    .dataframe thead th {\n",
              "        text-align: right;\n",
              "    }\n",
              "</style>\n",
              "<table border=\"1\" class=\"dataframe\">\n",
              "  <thead>\n",
              "    <tr style=\"text-align: right;\">\n",
              "      <th></th>\n",
              "      <th>Auction_ID</th>\n",
              "      <th>Auction_Duration</th>\n",
              "    </tr>\n",
              "  </thead>\n",
              "  <tbody>\n",
              "    <tr>\n",
              "      <th>0</th>\n",
              "      <td>0.287011</td>\n",
              "      <td>0.444444</td>\n",
              "    </tr>\n",
              "    <tr>\n",
              "      <th>1</th>\n",
              "      <td>0.287011</td>\n",
              "      <td>0.444444</td>\n",
              "    </tr>\n",
              "    <tr>\n",
              "      <th>2</th>\n",
              "      <td>0.287011</td>\n",
              "      <td>0.444444</td>\n",
              "    </tr>\n",
              "    <tr>\n",
              "      <th>3</th>\n",
              "      <td>0.287011</td>\n",
              "      <td>0.444444</td>\n",
              "    </tr>\n",
              "    <tr>\n",
              "      <th>4</th>\n",
              "      <td>0.353336</td>\n",
              "      <td>0.666667</td>\n",
              "    </tr>\n",
              "    <tr>\n",
              "      <th>...</th>\n",
              "      <td>...</td>\n",
              "      <td>...</td>\n",
              "    </tr>\n",
              "    <tr>\n",
              "      <th>6316</th>\n",
              "      <td>0.298066</td>\n",
              "      <td>0.222222</td>\n",
              "    </tr>\n",
              "    <tr>\n",
              "      <th>6317</th>\n",
              "      <td>0.977497</td>\n",
              "      <td>0.666667</td>\n",
              "    </tr>\n",
              "    <tr>\n",
              "      <th>6318</th>\n",
              "      <td>0.977497</td>\n",
              "      <td>0.666667</td>\n",
              "    </tr>\n",
              "    <tr>\n",
              "      <th>6319</th>\n",
              "      <td>0.977497</td>\n",
              "      <td>0.666667</td>\n",
              "    </tr>\n",
              "    <tr>\n",
              "      <th>6320</th>\n",
              "      <td>0.977497</td>\n",
              "      <td>0.666667</td>\n",
              "    </tr>\n",
              "  </tbody>\n",
              "</table>\n",
              "<p>6321 rows × 2 columns</p>\n",
              "</div>\n",
              "    <div class=\"colab-df-buttons\">\n",
              "\n",
              "  <div class=\"colab-df-container\">\n",
              "    <button class=\"colab-df-convert\" onclick=\"convertToInteractive('df-cfca4bc8-03eb-4d2c-adda-a0a506a50a9c')\"\n",
              "            title=\"Convert this dataframe to an interactive table.\"\n",
              "            style=\"display:none;\">\n",
              "\n",
              "  <svg xmlns=\"http://www.w3.org/2000/svg\" height=\"24px\" viewBox=\"0 -960 960 960\">\n",
              "    <path d=\"M120-120v-720h720v720H120Zm60-500h600v-160H180v160Zm220 220h160v-160H400v160Zm0 220h160v-160H400v160ZM180-400h160v-160H180v160Zm440 0h160v-160H620v160ZM180-180h160v-160H180v160Zm440 0h160v-160H620v160Z\"/>\n",
              "  </svg>\n",
              "    </button>\n",
              "\n",
              "  <style>\n",
              "    .colab-df-container {\n",
              "      display:flex;\n",
              "      gap: 12px;\n",
              "    }\n",
              "\n",
              "    .colab-df-convert {\n",
              "      background-color: #E8F0FE;\n",
              "      border: none;\n",
              "      border-radius: 50%;\n",
              "      cursor: pointer;\n",
              "      display: none;\n",
              "      fill: #1967D2;\n",
              "      height: 32px;\n",
              "      padding: 0 0 0 0;\n",
              "      width: 32px;\n",
              "    }\n",
              "\n",
              "    .colab-df-convert:hover {\n",
              "      background-color: #E2EBFA;\n",
              "      box-shadow: 0px 1px 2px rgba(60, 64, 67, 0.3), 0px 1px 3px 1px rgba(60, 64, 67, 0.15);\n",
              "      fill: #174EA6;\n",
              "    }\n",
              "\n",
              "    .colab-df-buttons div {\n",
              "      margin-bottom: 4px;\n",
              "    }\n",
              "\n",
              "    [theme=dark] .colab-df-convert {\n",
              "      background-color: #3B4455;\n",
              "      fill: #D2E3FC;\n",
              "    }\n",
              "\n",
              "    [theme=dark] .colab-df-convert:hover {\n",
              "      background-color: #434B5C;\n",
              "      box-shadow: 0px 1px 3px 1px rgba(0, 0, 0, 0.15);\n",
              "      filter: drop-shadow(0px 1px 2px rgba(0, 0, 0, 0.3));\n",
              "      fill: #FFFFFF;\n",
              "    }\n",
              "  </style>\n",
              "\n",
              "    <script>\n",
              "      const buttonEl =\n",
              "        document.querySelector('#df-cfca4bc8-03eb-4d2c-adda-a0a506a50a9c button.colab-df-convert');\n",
              "      buttonEl.style.display =\n",
              "        google.colab.kernel.accessAllowed ? 'block' : 'none';\n",
              "\n",
              "      async function convertToInteractive(key) {\n",
              "        const element = document.querySelector('#df-cfca4bc8-03eb-4d2c-adda-a0a506a50a9c');\n",
              "        const dataTable =\n",
              "          await google.colab.kernel.invokeFunction('convertToInteractive',\n",
              "                                                    [key], {});\n",
              "        if (!dataTable) return;\n",
              "\n",
              "        const docLinkHtml = 'Like what you see? Visit the ' +\n",
              "          '<a target=\"_blank\" href=https://colab.research.google.com/notebooks/data_table.ipynb>data table notebook</a>'\n",
              "          + ' to learn more about interactive tables.';\n",
              "        element.innerHTML = '';\n",
              "        dataTable['output_type'] = 'display_data';\n",
              "        await google.colab.output.renderOutput(dataTable, element);\n",
              "        const docLink = document.createElement('div');\n",
              "        docLink.innerHTML = docLinkHtml;\n",
              "        element.appendChild(docLink);\n",
              "      }\n",
              "    </script>\n",
              "  </div>\n",
              "\n",
              "\n",
              "<div id=\"df-970f6a76-f3f6-48e9-8620-7651e4c362e5\">\n",
              "  <button class=\"colab-df-quickchart\" onclick=\"quickchart('df-970f6a76-f3f6-48e9-8620-7651e4c362e5')\"\n",
              "            title=\"Suggest charts\"\n",
              "            style=\"display:none;\">\n",
              "\n",
              "<svg xmlns=\"http://www.w3.org/2000/svg\" height=\"24px\"viewBox=\"0 0 24 24\"\n",
              "     width=\"24px\">\n",
              "    <g>\n",
              "        <path d=\"M19 3H5c-1.1 0-2 .9-2 2v14c0 1.1.9 2 2 2h14c1.1 0 2-.9 2-2V5c0-1.1-.9-2-2-2zM9 17H7v-7h2v7zm4 0h-2V7h2v10zm4 0h-2v-4h2v4z\"/>\n",
              "    </g>\n",
              "</svg>\n",
              "  </button>\n",
              "\n",
              "<style>\n",
              "  .colab-df-quickchart {\n",
              "      --bg-color: #E8F0FE;\n",
              "      --fill-color: #1967D2;\n",
              "      --hover-bg-color: #E2EBFA;\n",
              "      --hover-fill-color: #174EA6;\n",
              "      --disabled-fill-color: #AAA;\n",
              "      --disabled-bg-color: #DDD;\n",
              "  }\n",
              "\n",
              "  [theme=dark] .colab-df-quickchart {\n",
              "      --bg-color: #3B4455;\n",
              "      --fill-color: #D2E3FC;\n",
              "      --hover-bg-color: #434B5C;\n",
              "      --hover-fill-color: #FFFFFF;\n",
              "      --disabled-bg-color: #3B4455;\n",
              "      --disabled-fill-color: #666;\n",
              "  }\n",
              "\n",
              "  .colab-df-quickchart {\n",
              "    background-color: var(--bg-color);\n",
              "    border: none;\n",
              "    border-radius: 50%;\n",
              "    cursor: pointer;\n",
              "    display: none;\n",
              "    fill: var(--fill-color);\n",
              "    height: 32px;\n",
              "    padding: 0;\n",
              "    width: 32px;\n",
              "  }\n",
              "\n",
              "  .colab-df-quickchart:hover {\n",
              "    background-color: var(--hover-bg-color);\n",
              "    box-shadow: 0 1px 2px rgba(60, 64, 67, 0.3), 0 1px 3px 1px rgba(60, 64, 67, 0.15);\n",
              "    fill: var(--button-hover-fill-color);\n",
              "  }\n",
              "\n",
              "  .colab-df-quickchart-complete:disabled,\n",
              "  .colab-df-quickchart-complete:disabled:hover {\n",
              "    background-color: var(--disabled-bg-color);\n",
              "    fill: var(--disabled-fill-color);\n",
              "    box-shadow: none;\n",
              "  }\n",
              "\n",
              "  .colab-df-spinner {\n",
              "    border: 2px solid var(--fill-color);\n",
              "    border-color: transparent;\n",
              "    border-bottom-color: var(--fill-color);\n",
              "    animation:\n",
              "      spin 1s steps(1) infinite;\n",
              "  }\n",
              "\n",
              "  @keyframes spin {\n",
              "    0% {\n",
              "      border-color: transparent;\n",
              "      border-bottom-color: var(--fill-color);\n",
              "      border-left-color: var(--fill-color);\n",
              "    }\n",
              "    20% {\n",
              "      border-color: transparent;\n",
              "      border-left-color: var(--fill-color);\n",
              "      border-top-color: var(--fill-color);\n",
              "    }\n",
              "    30% {\n",
              "      border-color: transparent;\n",
              "      border-left-color: var(--fill-color);\n",
              "      border-top-color: var(--fill-color);\n",
              "      border-right-color: var(--fill-color);\n",
              "    }\n",
              "    40% {\n",
              "      border-color: transparent;\n",
              "      border-right-color: var(--fill-color);\n",
              "      border-top-color: var(--fill-color);\n",
              "    }\n",
              "    60% {\n",
              "      border-color: transparent;\n",
              "      border-right-color: var(--fill-color);\n",
              "    }\n",
              "    80% {\n",
              "      border-color: transparent;\n",
              "      border-right-color: var(--fill-color);\n",
              "      border-bottom-color: var(--fill-color);\n",
              "    }\n",
              "    90% {\n",
              "      border-color: transparent;\n",
              "      border-bottom-color: var(--fill-color);\n",
              "    }\n",
              "  }\n",
              "</style>\n",
              "\n",
              "  <script>\n",
              "    async function quickchart(key) {\n",
              "      const quickchartButtonEl =\n",
              "        document.querySelector('#' + key + ' button');\n",
              "      quickchartButtonEl.disabled = true;  // To prevent multiple clicks.\n",
              "      quickchartButtonEl.classList.add('colab-df-spinner');\n",
              "      try {\n",
              "        const charts = await google.colab.kernel.invokeFunction(\n",
              "            'suggestCharts', [key], {});\n",
              "      } catch (error) {\n",
              "        console.error('Error during call to suggestCharts:', error);\n",
              "      }\n",
              "      quickchartButtonEl.classList.remove('colab-df-spinner');\n",
              "      quickchartButtonEl.classList.add('colab-df-quickchart-complete');\n",
              "    }\n",
              "    (() => {\n",
              "      let quickchartButtonEl =\n",
              "        document.querySelector('#df-970f6a76-f3f6-48e9-8620-7651e4c362e5 button');\n",
              "      quickchartButtonEl.style.display =\n",
              "        google.colab.kernel.accessAllowed ? 'block' : 'none';\n",
              "    })();\n",
              "  </script>\n",
              "</div>\n",
              "    </div>\n",
              "  </div>\n"
            ],
            "application/vnd.google.colaboratory.intrinsic+json": {
              "type": "dataframe",
              "variable_name": "df1",
              "summary": "{\n  \"name\": \"df1\",\n  \"rows\": 6321,\n  \"fields\": [\n    {\n      \"column\": \"Auction_ID\",\n      \"properties\": {\n        \"dtype\": \"number\",\n        \"std\": 0.29047405804870635,\n        \"min\": 0.0,\n        \"max\": 1.0,\n        \"num_unique_values\": 807,\n        \"samples\": [\n          0.01381760757994473,\n          0.2463482037110146,\n          0.5373075404658508\n        ],\n        \"semantic_type\": \"\",\n        \"description\": \"\"\n      }\n    },\n    {\n      \"column\": \"Auction_Duration\",\n      \"properties\": {\n        \"dtype\": \"number\",\n        \"std\": 0.27406990909335305,\n        \"min\": 0.0,\n        \"max\": 1.0,\n        \"num_unique_values\": 5,\n        \"samples\": [\n          0.6666666666666665,\n          1.0,\n          0.0\n        ],\n        \"semantic_type\": \"\",\n        \"description\": \"\"\n      }\n    }\n  ]\n}"
            }
          },
          "metadata": {},
          "execution_count": 15
        }
      ]
    },
    {
      "cell_type": "markdown",
      "source": [
        " I will be using normalization is that most of the features are already ranged between 0 and 1 except Auction_ID and Auction_Duration, therefore I will scale only these two features."
      ],
      "metadata": {
        "id": "3MF83inMwqvb"
      }
    },
    {
      "cell_type": "code",
      "source": [
        "df = df1.join(df2, how='outer')\n",
        "index = df2['Record_ID']\n",
        "df = df.set_index('Record_ID')\n",
        "df"
      ],
      "metadata": {
        "colab": {
          "base_uri": "https://localhost:8080/",
          "height": 475
        },
        "id": "BL8eDm6zZCh7",
        "outputId": "1645f29c-4824-4eeb-fa7b-f7b7df292f49"
      },
      "execution_count": null,
      "outputs": [
        {
          "output_type": "execute_result",
          "data": {
            "text/plain": [
              "           Auction_ID  Auction_Duration  index  Bidder_Tendency  \\\n",
              "Record_ID                                                         \n",
              "1            0.287011          0.444444      0         0.200000   \n",
              "2            0.287011          0.444444      1         0.024390   \n",
              "3            0.287011          0.444444      2         0.142857   \n",
              "4            0.287011          0.444444      3         0.100000   \n",
              "5            0.353336          0.666667      4         0.051282   \n",
              "...               ...               ...    ...              ...   \n",
              "15129        0.298066          0.222222   6316         0.333333   \n",
              "15137        0.977497          0.666667   6317         0.030612   \n",
              "15138        0.977497          0.666667   6318         0.055556   \n",
              "15139        0.977497          0.666667   6319         0.076923   \n",
              "15144        0.977497          0.666667   6320         0.016393   \n",
              "\n",
              "           Bidding_Ratio  Successive_Outbidding  Last_Bidding  Auction_Bids  \\\n",
              "Record_ID                                                                     \n",
              "1               0.400000                    0.0      0.000028      0.000000   \n",
              "2               0.200000                    0.0      0.013123      0.000000   \n",
              "3               0.200000                    0.0      0.003042      0.000000   \n",
              "4               0.200000                    0.0      0.097477      0.000000   \n",
              "5               0.222222                    0.0      0.001318      0.000000   \n",
              "...                  ...                    ...           ...           ...   \n",
              "15129           0.160000                    1.0      0.738557      0.280000   \n",
              "15137           0.130435                    0.0      0.005754      0.217391   \n",
              "15138           0.043478                    0.0      0.015663      0.217391   \n",
              "15139           0.086957                    0.0      0.068694      0.217391   \n",
              "15144           0.043478                    0.0      0.340351      0.217391   \n",
              "\n",
              "           Starting_Price_Average  Early_Bidding  Winning_Ratio  Class  \n",
              "Record_ID                                                               \n",
              "1                        0.993593       0.000028       0.666667      0  \n",
              "2                        0.993593       0.013123       0.944444      0  \n",
              "3                        0.993593       0.003042       1.000000      0  \n",
              "4                        0.993593       0.097477       1.000000      0  \n",
              "5                        0.000000       0.001242       0.500000      0  \n",
              "...                           ...            ...            ...    ...  \n",
              "15129                    0.993593       0.686358       0.888889      1  \n",
              "15137                    0.993593       0.000010       0.878788      0  \n",
              "15138                    0.993593       0.015663       0.000000      0  \n",
              "15139                    0.993593       0.000415       0.000000      0  \n",
              "15144                    0.993593       0.340351       0.000000      0  \n",
              "\n",
              "[6321 rows x 12 columns]"
            ],
            "text/html": [
              "\n",
              "  <div id=\"df-ea861161-3d4c-4d4e-9376-36632c9ee081\" class=\"colab-df-container\">\n",
              "    <div>\n",
              "<style scoped>\n",
              "    .dataframe tbody tr th:only-of-type {\n",
              "        vertical-align: middle;\n",
              "    }\n",
              "\n",
              "    .dataframe tbody tr th {\n",
              "        vertical-align: top;\n",
              "    }\n",
              "\n",
              "    .dataframe thead th {\n",
              "        text-align: right;\n",
              "    }\n",
              "</style>\n",
              "<table border=\"1\" class=\"dataframe\">\n",
              "  <thead>\n",
              "    <tr style=\"text-align: right;\">\n",
              "      <th></th>\n",
              "      <th>Auction_ID</th>\n",
              "      <th>Auction_Duration</th>\n",
              "      <th>index</th>\n",
              "      <th>Bidder_Tendency</th>\n",
              "      <th>Bidding_Ratio</th>\n",
              "      <th>Successive_Outbidding</th>\n",
              "      <th>Last_Bidding</th>\n",
              "      <th>Auction_Bids</th>\n",
              "      <th>Starting_Price_Average</th>\n",
              "      <th>Early_Bidding</th>\n",
              "      <th>Winning_Ratio</th>\n",
              "      <th>Class</th>\n",
              "    </tr>\n",
              "    <tr>\n",
              "      <th>Record_ID</th>\n",
              "      <th></th>\n",
              "      <th></th>\n",
              "      <th></th>\n",
              "      <th></th>\n",
              "      <th></th>\n",
              "      <th></th>\n",
              "      <th></th>\n",
              "      <th></th>\n",
              "      <th></th>\n",
              "      <th></th>\n",
              "      <th></th>\n",
              "      <th></th>\n",
              "    </tr>\n",
              "  </thead>\n",
              "  <tbody>\n",
              "    <tr>\n",
              "      <th>1</th>\n",
              "      <td>0.287011</td>\n",
              "      <td>0.444444</td>\n",
              "      <td>0</td>\n",
              "      <td>0.200000</td>\n",
              "      <td>0.400000</td>\n",
              "      <td>0.0</td>\n",
              "      <td>0.000028</td>\n",
              "      <td>0.000000</td>\n",
              "      <td>0.993593</td>\n",
              "      <td>0.000028</td>\n",
              "      <td>0.666667</td>\n",
              "      <td>0</td>\n",
              "    </tr>\n",
              "    <tr>\n",
              "      <th>2</th>\n",
              "      <td>0.287011</td>\n",
              "      <td>0.444444</td>\n",
              "      <td>1</td>\n",
              "      <td>0.024390</td>\n",
              "      <td>0.200000</td>\n",
              "      <td>0.0</td>\n",
              "      <td>0.013123</td>\n",
              "      <td>0.000000</td>\n",
              "      <td>0.993593</td>\n",
              "      <td>0.013123</td>\n",
              "      <td>0.944444</td>\n",
              "      <td>0</td>\n",
              "    </tr>\n",
              "    <tr>\n",
              "      <th>3</th>\n",
              "      <td>0.287011</td>\n",
              "      <td>0.444444</td>\n",
              "      <td>2</td>\n",
              "      <td>0.142857</td>\n",
              "      <td>0.200000</td>\n",
              "      <td>0.0</td>\n",
              "      <td>0.003042</td>\n",
              "      <td>0.000000</td>\n",
              "      <td>0.993593</td>\n",
              "      <td>0.003042</td>\n",
              "      <td>1.000000</td>\n",
              "      <td>0</td>\n",
              "    </tr>\n",
              "    <tr>\n",
              "      <th>4</th>\n",
              "      <td>0.287011</td>\n",
              "      <td>0.444444</td>\n",
              "      <td>3</td>\n",
              "      <td>0.100000</td>\n",
              "      <td>0.200000</td>\n",
              "      <td>0.0</td>\n",
              "      <td>0.097477</td>\n",
              "      <td>0.000000</td>\n",
              "      <td>0.993593</td>\n",
              "      <td>0.097477</td>\n",
              "      <td>1.000000</td>\n",
              "      <td>0</td>\n",
              "    </tr>\n",
              "    <tr>\n",
              "      <th>5</th>\n",
              "      <td>0.353336</td>\n",
              "      <td>0.666667</td>\n",
              "      <td>4</td>\n",
              "      <td>0.051282</td>\n",
              "      <td>0.222222</td>\n",
              "      <td>0.0</td>\n",
              "      <td>0.001318</td>\n",
              "      <td>0.000000</td>\n",
              "      <td>0.000000</td>\n",
              "      <td>0.001242</td>\n",
              "      <td>0.500000</td>\n",
              "      <td>0</td>\n",
              "    </tr>\n",
              "    <tr>\n",
              "      <th>...</th>\n",
              "      <td>...</td>\n",
              "      <td>...</td>\n",
              "      <td>...</td>\n",
              "      <td>...</td>\n",
              "      <td>...</td>\n",
              "      <td>...</td>\n",
              "      <td>...</td>\n",
              "      <td>...</td>\n",
              "      <td>...</td>\n",
              "      <td>...</td>\n",
              "      <td>...</td>\n",
              "      <td>...</td>\n",
              "    </tr>\n",
              "    <tr>\n",
              "      <th>15129</th>\n",
              "      <td>0.298066</td>\n",
              "      <td>0.222222</td>\n",
              "      <td>6316</td>\n",
              "      <td>0.333333</td>\n",
              "      <td>0.160000</td>\n",
              "      <td>1.0</td>\n",
              "      <td>0.738557</td>\n",
              "      <td>0.280000</td>\n",
              "      <td>0.993593</td>\n",
              "      <td>0.686358</td>\n",
              "      <td>0.888889</td>\n",
              "      <td>1</td>\n",
              "    </tr>\n",
              "    <tr>\n",
              "      <th>15137</th>\n",
              "      <td>0.977497</td>\n",
              "      <td>0.666667</td>\n",
              "      <td>6317</td>\n",
              "      <td>0.030612</td>\n",
              "      <td>0.130435</td>\n",
              "      <td>0.0</td>\n",
              "      <td>0.005754</td>\n",
              "      <td>0.217391</td>\n",
              "      <td>0.993593</td>\n",
              "      <td>0.000010</td>\n",
              "      <td>0.878788</td>\n",
              "      <td>0</td>\n",
              "    </tr>\n",
              "    <tr>\n",
              "      <th>15138</th>\n",
              "      <td>0.977497</td>\n",
              "      <td>0.666667</td>\n",
              "      <td>6318</td>\n",
              "      <td>0.055556</td>\n",
              "      <td>0.043478</td>\n",
              "      <td>0.0</td>\n",
              "      <td>0.015663</td>\n",
              "      <td>0.217391</td>\n",
              "      <td>0.993593</td>\n",
              "      <td>0.015663</td>\n",
              "      <td>0.000000</td>\n",
              "      <td>0</td>\n",
              "    </tr>\n",
              "    <tr>\n",
              "      <th>15139</th>\n",
              "      <td>0.977497</td>\n",
              "      <td>0.666667</td>\n",
              "      <td>6319</td>\n",
              "      <td>0.076923</td>\n",
              "      <td>0.086957</td>\n",
              "      <td>0.0</td>\n",
              "      <td>0.068694</td>\n",
              "      <td>0.217391</td>\n",
              "      <td>0.993593</td>\n",
              "      <td>0.000415</td>\n",
              "      <td>0.000000</td>\n",
              "      <td>0</td>\n",
              "    </tr>\n",
              "    <tr>\n",
              "      <th>15144</th>\n",
              "      <td>0.977497</td>\n",
              "      <td>0.666667</td>\n",
              "      <td>6320</td>\n",
              "      <td>0.016393</td>\n",
              "      <td>0.043478</td>\n",
              "      <td>0.0</td>\n",
              "      <td>0.340351</td>\n",
              "      <td>0.217391</td>\n",
              "      <td>0.993593</td>\n",
              "      <td>0.340351</td>\n",
              "      <td>0.000000</td>\n",
              "      <td>0</td>\n",
              "    </tr>\n",
              "  </tbody>\n",
              "</table>\n",
              "<p>6321 rows × 12 columns</p>\n",
              "</div>\n",
              "    <div class=\"colab-df-buttons\">\n",
              "\n",
              "  <div class=\"colab-df-container\">\n",
              "    <button class=\"colab-df-convert\" onclick=\"convertToInteractive('df-ea861161-3d4c-4d4e-9376-36632c9ee081')\"\n",
              "            title=\"Convert this dataframe to an interactive table.\"\n",
              "            style=\"display:none;\">\n",
              "\n",
              "  <svg xmlns=\"http://www.w3.org/2000/svg\" height=\"24px\" viewBox=\"0 -960 960 960\">\n",
              "    <path d=\"M120-120v-720h720v720H120Zm60-500h600v-160H180v160Zm220 220h160v-160H400v160Zm0 220h160v-160H400v160ZM180-400h160v-160H180v160Zm440 0h160v-160H620v160ZM180-180h160v-160H180v160Zm440 0h160v-160H620v160Z\"/>\n",
              "  </svg>\n",
              "    </button>\n",
              "\n",
              "  <style>\n",
              "    .colab-df-container {\n",
              "      display:flex;\n",
              "      gap: 12px;\n",
              "    }\n",
              "\n",
              "    .colab-df-convert {\n",
              "      background-color: #E8F0FE;\n",
              "      border: none;\n",
              "      border-radius: 50%;\n",
              "      cursor: pointer;\n",
              "      display: none;\n",
              "      fill: #1967D2;\n",
              "      height: 32px;\n",
              "      padding: 0 0 0 0;\n",
              "      width: 32px;\n",
              "    }\n",
              "\n",
              "    .colab-df-convert:hover {\n",
              "      background-color: #E2EBFA;\n",
              "      box-shadow: 0px 1px 2px rgba(60, 64, 67, 0.3), 0px 1px 3px 1px rgba(60, 64, 67, 0.15);\n",
              "      fill: #174EA6;\n",
              "    }\n",
              "\n",
              "    .colab-df-buttons div {\n",
              "      margin-bottom: 4px;\n",
              "    }\n",
              "\n",
              "    [theme=dark] .colab-df-convert {\n",
              "      background-color: #3B4455;\n",
              "      fill: #D2E3FC;\n",
              "    }\n",
              "\n",
              "    [theme=dark] .colab-df-convert:hover {\n",
              "      background-color: #434B5C;\n",
              "      box-shadow: 0px 1px 3px 1px rgba(0, 0, 0, 0.15);\n",
              "      filter: drop-shadow(0px 1px 2px rgba(0, 0, 0, 0.3));\n",
              "      fill: #FFFFFF;\n",
              "    }\n",
              "  </style>\n",
              "\n",
              "    <script>\n",
              "      const buttonEl =\n",
              "        document.querySelector('#df-ea861161-3d4c-4d4e-9376-36632c9ee081 button.colab-df-convert');\n",
              "      buttonEl.style.display =\n",
              "        google.colab.kernel.accessAllowed ? 'block' : 'none';\n",
              "\n",
              "      async function convertToInteractive(key) {\n",
              "        const element = document.querySelector('#df-ea861161-3d4c-4d4e-9376-36632c9ee081');\n",
              "        const dataTable =\n",
              "          await google.colab.kernel.invokeFunction('convertToInteractive',\n",
              "                                                    [key], {});\n",
              "        if (!dataTable) return;\n",
              "\n",
              "        const docLinkHtml = 'Like what you see? Visit the ' +\n",
              "          '<a target=\"_blank\" href=https://colab.research.google.com/notebooks/data_table.ipynb>data table notebook</a>'\n",
              "          + ' to learn more about interactive tables.';\n",
              "        element.innerHTML = '';\n",
              "        dataTable['output_type'] = 'display_data';\n",
              "        await google.colab.output.renderOutput(dataTable, element);\n",
              "        const docLink = document.createElement('div');\n",
              "        docLink.innerHTML = docLinkHtml;\n",
              "        element.appendChild(docLink);\n",
              "      }\n",
              "    </script>\n",
              "  </div>\n",
              "\n",
              "\n",
              "<div id=\"df-dbd6f1cf-d232-4b91-b99d-13aff2d551d7\">\n",
              "  <button class=\"colab-df-quickchart\" onclick=\"quickchart('df-dbd6f1cf-d232-4b91-b99d-13aff2d551d7')\"\n",
              "            title=\"Suggest charts\"\n",
              "            style=\"display:none;\">\n",
              "\n",
              "<svg xmlns=\"http://www.w3.org/2000/svg\" height=\"24px\"viewBox=\"0 0 24 24\"\n",
              "     width=\"24px\">\n",
              "    <g>\n",
              "        <path d=\"M19 3H5c-1.1 0-2 .9-2 2v14c0 1.1.9 2 2 2h14c1.1 0 2-.9 2-2V5c0-1.1-.9-2-2-2zM9 17H7v-7h2v7zm4 0h-2V7h2v10zm4 0h-2v-4h2v4z\"/>\n",
              "    </g>\n",
              "</svg>\n",
              "  </button>\n",
              "\n",
              "<style>\n",
              "  .colab-df-quickchart {\n",
              "      --bg-color: #E8F0FE;\n",
              "      --fill-color: #1967D2;\n",
              "      --hover-bg-color: #E2EBFA;\n",
              "      --hover-fill-color: #174EA6;\n",
              "      --disabled-fill-color: #AAA;\n",
              "      --disabled-bg-color: #DDD;\n",
              "  }\n",
              "\n",
              "  [theme=dark] .colab-df-quickchart {\n",
              "      --bg-color: #3B4455;\n",
              "      --fill-color: #D2E3FC;\n",
              "      --hover-bg-color: #434B5C;\n",
              "      --hover-fill-color: #FFFFFF;\n",
              "      --disabled-bg-color: #3B4455;\n",
              "      --disabled-fill-color: #666;\n",
              "  }\n",
              "\n",
              "  .colab-df-quickchart {\n",
              "    background-color: var(--bg-color);\n",
              "    border: none;\n",
              "    border-radius: 50%;\n",
              "    cursor: pointer;\n",
              "    display: none;\n",
              "    fill: var(--fill-color);\n",
              "    height: 32px;\n",
              "    padding: 0;\n",
              "    width: 32px;\n",
              "  }\n",
              "\n",
              "  .colab-df-quickchart:hover {\n",
              "    background-color: var(--hover-bg-color);\n",
              "    box-shadow: 0 1px 2px rgba(60, 64, 67, 0.3), 0 1px 3px 1px rgba(60, 64, 67, 0.15);\n",
              "    fill: var(--button-hover-fill-color);\n",
              "  }\n",
              "\n",
              "  .colab-df-quickchart-complete:disabled,\n",
              "  .colab-df-quickchart-complete:disabled:hover {\n",
              "    background-color: var(--disabled-bg-color);\n",
              "    fill: var(--disabled-fill-color);\n",
              "    box-shadow: none;\n",
              "  }\n",
              "\n",
              "  .colab-df-spinner {\n",
              "    border: 2px solid var(--fill-color);\n",
              "    border-color: transparent;\n",
              "    border-bottom-color: var(--fill-color);\n",
              "    animation:\n",
              "      spin 1s steps(1) infinite;\n",
              "  }\n",
              "\n",
              "  @keyframes spin {\n",
              "    0% {\n",
              "      border-color: transparent;\n",
              "      border-bottom-color: var(--fill-color);\n",
              "      border-left-color: var(--fill-color);\n",
              "    }\n",
              "    20% {\n",
              "      border-color: transparent;\n",
              "      border-left-color: var(--fill-color);\n",
              "      border-top-color: var(--fill-color);\n",
              "    }\n",
              "    30% {\n",
              "      border-color: transparent;\n",
              "      border-left-color: var(--fill-color);\n",
              "      border-top-color: var(--fill-color);\n",
              "      border-right-color: var(--fill-color);\n",
              "    }\n",
              "    40% {\n",
              "      border-color: transparent;\n",
              "      border-right-color: var(--fill-color);\n",
              "      border-top-color: var(--fill-color);\n",
              "    }\n",
              "    60% {\n",
              "      border-color: transparent;\n",
              "      border-right-color: var(--fill-color);\n",
              "    }\n",
              "    80% {\n",
              "      border-color: transparent;\n",
              "      border-right-color: var(--fill-color);\n",
              "      border-bottom-color: var(--fill-color);\n",
              "    }\n",
              "    90% {\n",
              "      border-color: transparent;\n",
              "      border-bottom-color: var(--fill-color);\n",
              "    }\n",
              "  }\n",
              "</style>\n",
              "\n",
              "  <script>\n",
              "    async function quickchart(key) {\n",
              "      const quickchartButtonEl =\n",
              "        document.querySelector('#' + key + ' button');\n",
              "      quickchartButtonEl.disabled = true;  // To prevent multiple clicks.\n",
              "      quickchartButtonEl.classList.add('colab-df-spinner');\n",
              "      try {\n",
              "        const charts = await google.colab.kernel.invokeFunction(\n",
              "            'suggestCharts', [key], {});\n",
              "      } catch (error) {\n",
              "        console.error('Error during call to suggestCharts:', error);\n",
              "      }\n",
              "      quickchartButtonEl.classList.remove('colab-df-spinner');\n",
              "      quickchartButtonEl.classList.add('colab-df-quickchart-complete');\n",
              "    }\n",
              "    (() => {\n",
              "      let quickchartButtonEl =\n",
              "        document.querySelector('#df-dbd6f1cf-d232-4b91-b99d-13aff2d551d7 button');\n",
              "      quickchartButtonEl.style.display =\n",
              "        google.colab.kernel.accessAllowed ? 'block' : 'none';\n",
              "    })();\n",
              "  </script>\n",
              "</div>\n",
              "    </div>\n",
              "  </div>\n"
            ],
            "application/vnd.google.colaboratory.intrinsic+json": {
              "type": "dataframe",
              "variable_name": "df",
              "summary": "{\n  \"name\": \"df\",\n  \"rows\": 6321,\n  \"fields\": [\n    {\n      \"column\": \"Record_ID\",\n      \"properties\": {\n        \"dtype\": \"number\",\n        \"std\": 4364,\n        \"min\": 1,\n        \"max\": 15144,\n        \"num_unique_values\": 6321,\n        \"samples\": [\n          9718,\n          9159,\n          1673\n        ],\n        \"semantic_type\": \"\",\n        \"description\": \"\"\n      }\n    },\n    {\n      \"column\": \"Auction_ID\",\n      \"properties\": {\n        \"dtype\": \"number\",\n        \"std\": 0.29047405804870635,\n        \"min\": 0.0,\n        \"max\": 1.0,\n        \"num_unique_values\": 807,\n        \"samples\": [\n          0.01381760757994473,\n          0.2463482037110146,\n          0.5373075404658508\n        ],\n        \"semantic_type\": \"\",\n        \"description\": \"\"\n      }\n    },\n    {\n      \"column\": \"Auction_Duration\",\n      \"properties\": {\n        \"dtype\": \"number\",\n        \"std\": 0.27406990909335305,\n        \"min\": 0.0,\n        \"max\": 1.0,\n        \"num_unique_values\": 5,\n        \"samples\": [\n          0.6666666666666665,\n          1.0,\n          0.0\n        ],\n        \"semantic_type\": \"\",\n        \"description\": \"\"\n      }\n    },\n    {\n      \"column\": \"index\",\n      \"properties\": {\n        \"dtype\": \"number\",\n        \"std\": 1824,\n        \"min\": 0,\n        \"max\": 6320,\n        \"num_unique_values\": 6321,\n        \"samples\": [\n          4083,\n          3844,\n          712\n        ],\n        \"semantic_type\": \"\",\n        \"description\": \"\"\n      }\n    },\n    {\n      \"column\": \"Bidder_Tendency\",\n      \"properties\": {\n        \"dtype\": \"number\",\n        \"std\": 0.19708355531317673,\n        \"min\": 0.0,\n        \"max\": 1.0,\n        \"num_unique_values\": 489,\n        \"samples\": [\n          0.355932203,\n          0.003021148,\n          0.061728395\n        ],\n        \"semantic_type\": \"\",\n        \"description\": \"\"\n      }\n    },\n    {\n      \"column\": \"Bidding_Ratio\",\n      \"properties\": {\n        \"dtype\": \"number\",\n        \"std\": 0.13153042183922645,\n        \"min\": 0.011764706,\n        \"max\": 1.0,\n        \"num_unique_values\": 400,\n        \"samples\": [\n          0.48,\n          0.079365079,\n          0.017241379\n        ],\n        \"semantic_type\": \"\",\n        \"description\": \"\"\n      }\n    },\n    {\n      \"column\": \"Successive_Outbidding\",\n      \"properties\": {\n        \"dtype\": \"number\",\n        \"std\": 0.27969797028898225,\n        \"min\": 0.0,\n        \"max\": 1.0,\n        \"num_unique_values\": 3,\n        \"samples\": [\n          0.0,\n          1.0,\n          0.5\n        ],\n        \"semantic_type\": \"\",\n        \"description\": \"\"\n      }\n    },\n    {\n      \"column\": \"Last_Bidding\",\n      \"properties\": {\n        \"dtype\": \"number\",\n        \"std\": 0.3800972293899528,\n        \"min\": 0.0,\n        \"max\": 0.999900463,\n        \"num_unique_values\": 5807,\n        \"samples\": [\n          0.8190244709,\n          0.9965641534,\n          0.1986203704\n        ],\n        \"semantic_type\": \"\",\n        \"description\": \"\"\n      }\n    },\n    {\n      \"column\": \"Auction_Bids\",\n      \"properties\": {\n        \"dtype\": \"number\",\n        \"std\": 0.25525201465735303,\n        \"min\": 0.0,\n        \"max\": 0.788235294,\n        \"num_unique_values\": 49,\n        \"samples\": [\n          0.4,\n          0.704918033,\n          0.723076923\n        ],\n        \"semantic_type\": \"\",\n        \"description\": \"\"\n      }\n    },\n    {\n      \"column\": \"Starting_Price_Average\",\n      \"properties\": {\n        \"dtype\": \"number\",\n        \"std\": 0.4899121676025466,\n        \"min\": 0.0,\n        \"max\": 0.999935281,\n        \"num_unique_values\": 22,\n        \"samples\": [\n          0.993592814,\n          0.98712091,\n          0.935280953\n        ],\n        \"semantic_type\": \"\",\n        \"description\": \"\"\n      }\n    },\n    {\n      \"column\": \"Early_Bidding\",\n      \"properties\": {\n        \"dtype\": \"number\",\n        \"std\": 0.38078516662003975,\n        \"min\": 0.0,\n        \"max\": 0.999900463,\n        \"num_unique_values\": 5690,\n        \"samples\": [\n          0.2368402778,\n          0.9996990741,\n          0.9631404321\n        ],\n        \"semantic_type\": \"\",\n        \"description\": \"\"\n      }\n    },\n    {\n      \"column\": \"Winning_Ratio\",\n      \"properties\": {\n        \"dtype\": \"number\",\n        \"std\": 0.43657346666169583,\n        \"min\": 0.0,\n        \"max\": 1.0,\n        \"num_unique_values\": 72,\n        \"samples\": [\n          0.8,\n          0.555555556,\n          0.865671642\n        ],\n        \"semantic_type\": \"\",\n        \"description\": \"\"\n      }\n    },\n    {\n      \"column\": \"Class\",\n      \"properties\": {\n        \"dtype\": \"number\",\n        \"std\": 0,\n        \"min\": 0,\n        \"max\": 1,\n        \"num_unique_values\": 2,\n        \"samples\": [\n          1,\n          0\n        ],\n        \"semantic_type\": \"\",\n        \"description\": \"\"\n      }\n    }\n  ]\n}"
            }
          },
          "metadata": {},
          "execution_count": 16
        }
      ]
    },
    {
      "cell_type": "markdown",
      "source": [
        "Features importances"
      ],
      "metadata": {
        "id": "0K3VWQYrZOpS"
      }
    },
    {
      "cell_type": "markdown",
      "source": [
        "So now to extract the Important Features, We will be doing Feature selection for that We will be using Decision Tree Classifier"
      ],
      "metadata": {
        "id": "cU9o5okpxz_N"
      }
    },
    {
      "cell_type": "code",
      "source": [
        "X = df.drop(columns = 'Class')\n",
        "y = df['Class']"
      ],
      "metadata": {
        "id": "iUbylouIZMIS"
      },
      "execution_count": null,
      "outputs": []
    },
    {
      "cell_type": "code",
      "source": [
        "cls = DecisionTreeClassifier()\n",
        "cls.fit(X, y)"
      ],
      "metadata": {
        "colab": {
          "base_uri": "https://localhost:8080/",
          "height": 74
        },
        "id": "vYMd8iVqZQ_j",
        "outputId": "d382d295-46ee-4398-82fb-f5735c45da64"
      },
      "execution_count": null,
      "outputs": [
        {
          "output_type": "execute_result",
          "data": {
            "text/plain": [
              "DecisionTreeClassifier()"
            ],
            "text/html": [
              "<style>#sk-container-id-1 {color: black;background-color: white;}#sk-container-id-1 pre{padding: 0;}#sk-container-id-1 div.sk-toggleable {background-color: white;}#sk-container-id-1 label.sk-toggleable__label {cursor: pointer;display: block;width: 100%;margin-bottom: 0;padding: 0.3em;box-sizing: border-box;text-align: center;}#sk-container-id-1 label.sk-toggleable__label-arrow:before {content: \"▸\";float: left;margin-right: 0.25em;color: #696969;}#sk-container-id-1 label.sk-toggleable__label-arrow:hover:before {color: black;}#sk-container-id-1 div.sk-estimator:hover label.sk-toggleable__label-arrow:before {color: black;}#sk-container-id-1 div.sk-toggleable__content {max-height: 0;max-width: 0;overflow: hidden;text-align: left;background-color: #f0f8ff;}#sk-container-id-1 div.sk-toggleable__content pre {margin: 0.2em;color: black;border-radius: 0.25em;background-color: #f0f8ff;}#sk-container-id-1 input.sk-toggleable__control:checked~div.sk-toggleable__content {max-height: 200px;max-width: 100%;overflow: auto;}#sk-container-id-1 input.sk-toggleable__control:checked~label.sk-toggleable__label-arrow:before {content: \"▾\";}#sk-container-id-1 div.sk-estimator input.sk-toggleable__control:checked~label.sk-toggleable__label {background-color: #d4ebff;}#sk-container-id-1 div.sk-label input.sk-toggleable__control:checked~label.sk-toggleable__label {background-color: #d4ebff;}#sk-container-id-1 input.sk-hidden--visually {border: 0;clip: rect(1px 1px 1px 1px);clip: rect(1px, 1px, 1px, 1px);height: 1px;margin: -1px;overflow: hidden;padding: 0;position: absolute;width: 1px;}#sk-container-id-1 div.sk-estimator {font-family: monospace;background-color: #f0f8ff;border: 1px dotted black;border-radius: 0.25em;box-sizing: border-box;margin-bottom: 0.5em;}#sk-container-id-1 div.sk-estimator:hover {background-color: #d4ebff;}#sk-container-id-1 div.sk-parallel-item::after {content: \"\";width: 100%;border-bottom: 1px solid gray;flex-grow: 1;}#sk-container-id-1 div.sk-label:hover label.sk-toggleable__label {background-color: #d4ebff;}#sk-container-id-1 div.sk-serial::before {content: \"\";position: absolute;border-left: 1px solid gray;box-sizing: border-box;top: 0;bottom: 0;left: 50%;z-index: 0;}#sk-container-id-1 div.sk-serial {display: flex;flex-direction: column;align-items: center;background-color: white;padding-right: 0.2em;padding-left: 0.2em;position: relative;}#sk-container-id-1 div.sk-item {position: relative;z-index: 1;}#sk-container-id-1 div.sk-parallel {display: flex;align-items: stretch;justify-content: center;background-color: white;position: relative;}#sk-container-id-1 div.sk-item::before, #sk-container-id-1 div.sk-parallel-item::before {content: \"\";position: absolute;border-left: 1px solid gray;box-sizing: border-box;top: 0;bottom: 0;left: 50%;z-index: -1;}#sk-container-id-1 div.sk-parallel-item {display: flex;flex-direction: column;z-index: 1;position: relative;background-color: white;}#sk-container-id-1 div.sk-parallel-item:first-child::after {align-self: flex-end;width: 50%;}#sk-container-id-1 div.sk-parallel-item:last-child::after {align-self: flex-start;width: 50%;}#sk-container-id-1 div.sk-parallel-item:only-child::after {width: 0;}#sk-container-id-1 div.sk-dashed-wrapped {border: 1px dashed gray;margin: 0 0.4em 0.5em 0.4em;box-sizing: border-box;padding-bottom: 0.4em;background-color: white;}#sk-container-id-1 div.sk-label label {font-family: monospace;font-weight: bold;display: inline-block;line-height: 1.2em;}#sk-container-id-1 div.sk-label-container {text-align: center;}#sk-container-id-1 div.sk-container {/* jupyter's `normalize.less` sets `[hidden] { display: none; }` but bootstrap.min.css set `[hidden] { display: none !important; }` so we also need the `!important` here to be able to override the default hidden behavior on the sphinx rendered scikit-learn.org. See: https://github.com/scikit-learn/scikit-learn/issues/21755 */display: inline-block !important;position: relative;}#sk-container-id-1 div.sk-text-repr-fallback {display: none;}</style><div id=\"sk-container-id-1\" class=\"sk-top-container\"><div class=\"sk-text-repr-fallback\"><pre>DecisionTreeClassifier()</pre><b>In a Jupyter environment, please rerun this cell to show the HTML representation or trust the notebook. <br />On GitHub, the HTML representation is unable to render, please try loading this page with nbviewer.org.</b></div><div class=\"sk-container\" hidden><div class=\"sk-item\"><div class=\"sk-estimator sk-toggleable\"><input class=\"sk-toggleable__control sk-hidden--visually\" id=\"sk-estimator-id-1\" type=\"checkbox\" checked><label for=\"sk-estimator-id-1\" class=\"sk-toggleable__label sk-toggleable__label-arrow\">DecisionTreeClassifier</label><div class=\"sk-toggleable__content\"><pre>DecisionTreeClassifier()</pre></div></div></div></div></div>"
            ]
          },
          "metadata": {},
          "execution_count": 18
        }
      ]
    },
    {
      "cell_type": "code",
      "source": [
        "importances = cls.feature_importances_\n",
        "columns = X.columns\n",
        "columns"
      ],
      "metadata": {
        "colab": {
          "base_uri": "https://localhost:8080/"
        },
        "id": "SRZRKvrBZSlM",
        "outputId": "85d698ff-a8d8-43d8-d6b4-6b18dd544f4e"
      },
      "execution_count": null,
      "outputs": [
        {
          "output_type": "execute_result",
          "data": {
            "text/plain": [
              "Index(['Auction_ID', 'Auction_Duration', 'index', 'Bidder_Tendency',\n",
              "       'Bidding_Ratio', 'Successive_Outbidding', 'Last_Bidding',\n",
              "       'Auction_Bids', 'Starting_Price_Average', 'Early_Bidding',\n",
              "       'Winning_Ratio'],\n",
              "      dtype='object')"
            ]
          },
          "metadata": {},
          "execution_count": 19
        }
      ]
    },
    {
      "cell_type": "code",
      "source": [
        "df_import = pd.DataFrame(importances, columns = ['Feature importances'], index=columns)\n",
        "df_import['Percentage'] = pd.DataFrame((df_import.sort_values(by= ['Feature importances'], ascending=False)/df_import.shape[0])*100)\n",
        "pd.options.display.float_format = \"{:.2f}\".format\n",
        "df_import=df_import.sort_values(by= ['Percentage'], ascending=False)\n",
        "\n",
        "# plotting features importances\n",
        "g = df_import['Percentage'].plot(kind = 'bar', figsize=(60,30), fontsize=24, color = 'pink')\n",
        "g.set_title('Features importances', fontsize=70)\n",
        "g.set_xlabel('Features', fontsize=50)\n",
        "g.set_ylabel('Percentage of importances', fontsize=50)"
      ],
      "metadata": {
        "colab": {
          "base_uri": "https://localhost:8080/",
          "height": 708
        },
        "id": "DETSJHM4ZfJn",
        "outputId": "fd06b7f6-210c-4a79-e9f1-2f2ffda0d736"
      },
      "execution_count": null,
      "outputs": [
        {
          "output_type": "execute_result",
          "data": {
            "text/plain": [
              "Text(0, 0.5, 'Percentage of importances')"
            ]
          },
          "metadata": {},
          "execution_count": 20
        },
        {
          "output_type": "display_data",
          "data": {
            "text/plain": [
              "<Figure size 6000x3000 with 1 Axes>"
            ],
            "image/png": "[encoded data removed]"
          },
          "metadata": {}
        }
      ]
    },
    {
      "cell_type": "markdown",
      "source": [
        "We see that three the most important features for predicting the target variable are:\n",
        "\n",
        "Successive_Outbidding;\n",
        "Auction_Duration;\n",
        "Winning_Ratio,\n",
        "and the less important are:\n",
        "\n",
        "Starting_Price_Average;\n",
        "Auction_ID;\n",
        "Early_Bidding."
      ],
      "metadata": {
        "id": "bTYkngfmyyMF"
      }
    },
    {
      "cell_type": "markdown",
      "source": [
        "Linear Regression"
      ],
      "metadata": {
        "id": "zebMqu7L_I1y"
      }
    },
    {
      "cell_type": "code",
      "source": [
        "from sklearn.metrics import mean_squared_error, r2_score\n",
        "X_train, X_test, y_train, y_test = train_test_split(X, y, test_size=0.2, random_state=42)\n",
        "# Create a Linear Regression model\n",
        "linear_reg = LinearRegression()\n",
        "linear_reg.fit(X_train, y_train)\n",
        "# Make predictions\n",
        "y_pred = linear_reg.predict(X_test)\n",
        "# Calculate R-squared (accuracy) without PCA\n",
        "accuracy_without_pca = r2_score(y_test, y_pred)\n",
        "print(\"R-squared (Accuracy) without PCA:\", accuracy_without_pca)"
      ],
      "metadata": {
        "colab": {
          "base_uri": "https://localhost:8080/"
        },
        "id": "5EbQLRrx_Gr-",
        "outputId": "ad4f68cf-4878-4182-eff0-68868dde47a4"
      },
      "execution_count": null,
      "outputs": [
        {
          "output_type": "stream",
          "name": "stdout",
          "text": [
            "R-squared (Accuracy) without PCA: 0.7802434505915196\n"
          ]
        }
      ]
    },
    {
      "cell_type": "markdown",
      "source": [
        "An R-squared value of 0.7802 indicates a relatively good fit for the linear regression."
      ],
      "metadata": {
        "id": "UfZCyRdIEy7j"
      }
    },
    {
      "cell_type": "markdown",
      "source": [
        "Apply PCA"
      ],
      "metadata": {
        "id": "xbn-U-AVZohT"
      }
    },
    {
      "cell_type": "code",
      "source": [
        "pca = PCA().fit(X)\n",
        "plt.plot(np.cumsum(pca.explained_variance_ratio_))\n",
        "plt.title('Explained variance ratio', fontsize = 20)\n",
        "plt.xlabel('Number of components')\n",
        "plt.ylabel('Cumulative explained variance')"
      ],
      "metadata": {
        "colab": {
          "base_uri": "https://localhost:8080/",
          "height": 512
        },
        "id": "BHupCgmcZjTw",
        "outputId": "6717312c-dffa-4e5b-ff1d-e3427ee4c0e5"
      },
      "execution_count": null,
      "outputs": [
        {
          "output_type": "execute_result",
          "data": {
            "text/plain": [
              "Text(0, 0.5, 'Cumulative explained variance')"
            ]
          },
          "metadata": {},
          "execution_count": 22
        },
        {
          "output_type": "display_data",
          "data": {
            "text/plain": [
              "<Figure size 640x480 with 1 Axes>"
            ],
            "image/png": "[encoded data removed]"
          },
          "metadata": {}
        }
      ]
    },
    {
      "cell_type": "markdown",
      "source": [
        "From the graph above we see that in order to keep 90% of the original data we need to use 6 components."
      ],
      "metadata": {
        "id": "FlROLyvPzI_8"
      }
    },
    {
      "cell_type": "code",
      "source": [
        "pca = PCA(n_components=6)\n",
        "projected = pca.fit_transform(X)"
      ],
      "metadata": {
        "id": "UywMdqS8ZsOl"
      },
      "execution_count": null,
      "outputs": []
    },
    {
      "cell_type": "code",
      "source": [
        "# Split the dataset into train and test sets\n",
        "X_train, X_test, y_train, y_test = train_test_split(X, y, test_size=0.2, random_state=42)"
      ],
      "metadata": {
        "id": "fJv1K9cUbma4"
      },
      "execution_count": null,
      "outputs": []
    },
    {
      "cell_type": "code",
      "source": [
        "# Standardize the data\n",
        "scaler = StandardScaler()\n",
        "X_train_scaled = scaler.fit_transform(X_train)\n",
        "X_test_scaled = scaler.transform(X_test)"
      ],
      "metadata": {
        "id": "9OaGKrATbHHQ"
      },
      "execution_count": null,
      "outputs": []
    },
    {
      "cell_type": "code",
      "source": [
        "# Calculate variance before PCA\n",
        "variance_before_pca = X_train_scaled.var(axis=0).sum()"
      ],
      "metadata": {
        "id": "_62QJPQBbt0V"
      },
      "execution_count": null,
      "outputs": []
    },
    {
      "cell_type": "code",
      "source": [
        "# Initialize PCA\n",
        "pca = PCA(n_components=0.95) # Retain 95% of variance"
      ],
      "metadata": {
        "id": "rTOEfpg2bv9H"
      },
      "execution_count": null,
      "outputs": []
    },
    {
      "cell_type": "code",
      "source": [
        "# Apply PCA on training data\n",
        "X_train_pca = pca.fit_transform(X_train_scaled)"
      ],
      "metadata": {
        "id": "0O8pj3udb8yH"
      },
      "execution_count": null,
      "outputs": []
    },
    {
      "cell_type": "code",
      "source": [
        "# Calculate variance after PCA\n",
        "variance_after_pca = pca.explained_variance_ratio_.sum()"
      ],
      "metadata": {
        "id": "YMvUvFDLcBD_"
      },
      "execution_count": null,
      "outputs": []
    },
    {
      "cell_type": "code",
      "source": [
        "# Train linear regression model on original data\n",
        "model_orig = LinearRegression()\n",
        "model_orig.fit(X_train_scaled, y_train)\n",
        "# Predict on test data using original model\n",
        "y_pred_orig = model_orig.predict(X_test_scaled)\n",
        "mse_orig = mean_squared_error(y_test, y_pred_orig)\n",
        "# Train linear regression model on PCA-transformed data\n",
        "model_pca = LinearRegression()\n",
        "model_pca.fit(X_train_pca, y_train)\n",
        "# Predict on test data using PCA model\n",
        "X_test_pca = pca.transform(X_test)\n",
        "y_pred_pca = model_pca.predict(X_test_pca)\n",
        "mse_pca = mean_squared_error(y_test, y_pred_pca)\n",
        "print(\"Mean Squared Error before PCA:\", mse_orig)\n",
        "print(\"Mean Squared Error after PCA:\", mse_pca)\n",
        "print(\"Variance before PCA:\", variance_before_pca)\n",
        "print(\"Variance after PCA:\", variance_after_pca)"
      ],
      "metadata": {
        "colab": {
          "base_uri": "https://localhost:8080/"
        },
        "id": "Wn3OUFa0cFfG",
        "outputId": "a24e3a97-bdf7-43fa-a719-464470870e09"
      },
      "execution_count": null,
      "outputs": [
        {
          "output_type": "stream",
          "name": "stdout",
          "text": [
            "Mean Squared Error before PCA: 0.02053830586532192\n",
            "Mean Squared Error after PCA: 21.056445816411316\n",
            "Variance before PCA: 11.0\n",
            "Variance after PCA: 0.9724677124520119\n"
          ]
        }
      ]
    },
    {
      "cell_type": "markdown",
      "source": [
        "The linear regression model performs significantly better without PCA, as indicated by the lower Mean Squared Error (MSE) before PCA (0.0205) compared to after PCA (21.0564). This suggests that PCA introduces information loss, outweighing its benefits of reducing dimensionality.\n",
        "\n",
        "Hence from above analysis Retaining the original features yields superior predictive performance\" means that using the original set of features without applying dimensionality reduction techniques such as PCA results in better predictive accuracy for the model."
      ],
      "metadata": {
        "id": "Na-VmzAZE-YO"
      }
    },
    {
      "cell_type": "markdown",
      "source": [
        "LDA"
      ],
      "metadata": {
        "id": "5gJk2mnscmkC"
      }
    },
    {
      "cell_type": "code",
      "source": [
        "\n",
        "# Splitting the dataset into training and testing sets\n",
        "X_train, X_test, y_train, y_test = train_test_split(X, y, test_size=0.2, random_state=42)\n",
        "\n",
        "# Preprocessing: Scale the features if needed\n",
        "# Assuming 'X_train_scaled' and 'X_test_scaled' are your scaled training and testing sets\n",
        "\n",
        "# Apply LDA\n",
        "lda = LinearDiscriminantAnalysis()\n",
        "X_train_lda = lda.fit_transform(X_train, y_train)\n",
        "X_test_lda = lda.transform(X_test)\n",
        "\n",
        "# Train a classifier (e.g., logistic regression) on the transformed features\n",
        "classifier = LogisticRegression()\n",
        "classifier.fit(X_train_lda, y_train)\n",
        "\n",
        "# Make predictions on the testing set\n",
        "y_pred = classifier.predict(X_test_lda)\n",
        "\n",
        "# Evaluate the accuracy of the classifier\n",
        "accuracy = accuracy_score(y_test, y_pred)\n",
        "print(\"Accuracy with logistic regression:\", accuracy)\n"
      ],
      "metadata": {
        "colab": {
          "base_uri": "https://localhost:8080/"
        },
        "id": "xdSJQP8z29jz",
        "outputId": "468393d6-36e4-49e0-e238-6a8bbbf268a7"
      },
      "execution_count": null,
      "outputs": [
        {
          "output_type": "stream",
          "name": "stdout",
          "text": [
            "Accuracy with logistic regression: 0.9707509881422924\n"
          ]
        }
      ]
    },
    {
      "cell_type": "markdown",
      "source": [
        "The logistic regression model achieves an accuracy of approximately 97.08% on the testing set after preprocessing and applying Linear Discriminant Analysis (LDA) for dimensionality reduction.\n",
        "\n",
        "The logistic regression model achieves an accuracy of approximately 97.08% on the testing set after preprocessing and applying Linear Discriminant Analysis (LDA) for dimensionality reduction. This high accuracy indicates that the model is effective at predicting the target variable. Further evaluation, such as examining precision, recall, and F1-score, could provide additional insights into the model's performance across different classes."
      ],
      "metadata": {
        "id": "L5K3ian4F6zx"
      }
    },
    {
      "cell_type": "code",
      "source": [
        "\n",
        "# Splitting the dataset into training and testing sets\n",
        "X_train, X_test, y_train, y_test = train_test_split(X, y, test_size=0.2, random_state=42)\n",
        "\n",
        "# Apply LDA\n",
        "lda = LinearDiscriminantAnalysis()\n",
        "X_train_lda = lda.fit_transform(X_train, y_train)\n",
        "X_test_lda = lda.transform(X_test)\n",
        "\n",
        "# Train linear regression model\n",
        "regression_model = LinearRegression()\n",
        "regression_model.fit(X_train_lda, y_train)\n",
        "\n",
        "# Predict on the testing set\n",
        "y_pred = regression_model.predict(X_test_lda)\n",
        "\n",
        "# Evaluate the model\n",
        "mse = mean_squared_error(y_test, y_pred)\n",
        "print(\"Mean Squared Error:\", mse)\n",
        "accuracy_with_lda = r2_score(y_test, y_pred)\n",
        "print(\"R-squared (Accuracy with linear regression) :\", accuracy_with_lda)"
      ],
      "metadata": {
        "colab": {
          "base_uri": "https://localhost:8080/"
        },
        "id": "PTBzfkeo4BGf",
        "outputId": "ae32269a-98ca-4420-c4fa-04e57a70d715"
      },
      "execution_count": null,
      "outputs": [
        {
          "output_type": "stream",
          "name": "stdout",
          "text": [
            "Mean Squared Error: 0.020538305865321942\n",
            "R-squared (Accuracy with linear regression) : 0.7802434505915188\n"
          ]
        }
      ]
    },
    {
      "cell_type": "markdown",
      "source": [
        "Conclusion for the result :\n",
        "\n",
        "Both linear regression models perform similarly in terms of prediction accuracy and explanatory power, as indicated by the comparable MSE and R-squared values. These results suggest that the addition of LDA for dimensionality reduction does not significantly affect the performance of the linear regression models in this context."
      ],
      "metadata": {
        "id": "uSwANi1JG_TQ"
      }
    },
    {
      "cell_type": "markdown",
      "source": [
        "SVD"
      ],
      "metadata": {
        "id": "hV2Ac627a7nL"
      }
    },
    {
      "cell_type": "code",
      "source": [
        "import pandas as pd\n",
        "from sklearn.model_selection import cross_val_score\n",
        "from sklearn.pipeline import make_pipeline\n",
        "from sklearn.preprocessing import StandardScaler\n",
        "from sklearn.decomposition import TruncatedSVD\n",
        "from sklearn.svm import SVC"
      ],
      "metadata": {
        "id": "JQwAleZ8gn-j"
      },
      "execution_count": null,
      "outputs": []
    },
    {
      "cell_type": "code",
      "source": [
        "# Define the pipeline with SVD, scaling, and classifier\n",
        "pipeline = make_pipeline(\n",
        "    StandardScaler(),\n",
        "    TruncatedSVD(n_components=10),  # Adjust number of components as needed\n",
        "    SVC()  # Replace with your classifier of choice\n",
        ")"
      ],
      "metadata": {
        "id": "HbZvSI1WgqJ7"
      },
      "execution_count": null,
      "outputs": []
    },
    {
      "cell_type": "code",
      "source": [
        "# Evaluate the pipeline using cross-validation\n",
        "accuracy_scores = cross_val_score(pipeline, X, y, cv=5)  # Adjust cv as needed"
      ],
      "metadata": {
        "id": "YG5Pvn1Bgt0h"
      },
      "execution_count": null,
      "outputs": []
    },
    {
      "cell_type": "code",
      "source": [
        "# Print the accuracy scores\n",
        "print(\"Accuracy scores:\", accuracy_scores)\n",
        "print(\"Mean accuracy:\", accuracy_scores.mean())"
      ],
      "metadata": {
        "colab": {
          "base_uri": "https://localhost:8080/"
        },
        "id": "3cC4i0jmgxiX",
        "outputId": "8fb2a64c-f4a7-44b8-d33d-0ccba716caa7"
      },
      "execution_count": null,
      "outputs": [
        {
          "output_type": "stream",
          "name": "stdout",
          "text": [
            "Accuracy scores: [0.9826087  0.99050633 0.98259494 0.98734177 0.98101266]\n",
            "Mean accuracy: 0.9848128783709411\n"
          ]
        }
      ]
    },
    {
      "cell_type": "code",
      "source": [
        "# Initialize SVD\n",
        "svd = TruncatedSVD(n_components=2)\n",
        "\n",
        "# Apply SVD to the data\n",
        "X_svd = svd.fit_transform(X)\n",
        "\n",
        "# Split the data into train and test sets\n",
        "X_train_svd, X_test_svd, y_train, y_test = train_test_split(X_svd, y, test_size=0.2, random_state=42)\n",
        "\n",
        "# Build a linear regression model using SVD-transformed data\n",
        "model_svd = LinearRegression()\n",
        "model_svd.fit(X_train_svd, y_train)\n",
        "\n",
        "# Predict on the test set\n",
        "y_pred_svd = model_svd.predict(X_test_svd)\n",
        "\n",
        "# Evaluate the model\n",
        "mse_svd = mean_squared_error(y_test, y_pred_svd)\n",
        "print(\"Mean Squared Error (SVD):\", mse_svd)"
      ],
      "metadata": {
        "colab": {
          "base_uri": "https://localhost:8080/"
        },
        "id": "O6HRQ2s_JVFi",
        "outputId": "64906c1a-0d1f-4c7d-a5c2-c7bea4caead4"
      },
      "execution_count": null,
      "outputs": [
        {
          "output_type": "stream",
          "name": "stdout",
          "text": [
            "Mean Squared Error (SVD): 0.09179336073164289\n"
          ]
        }
      ]
    },
    {
      "cell_type": "code",
      "source": [
        "print(\"Comparative Analysis of Dimensionality reduction:\")\n",
        "print(\"Mean Squared Error (PCA):\", mse_pca)\n",
        "print(\"Mean Squared Error (LDA):\", mse)\n",
        "print(\"Mean Squared Error (SVD):\", mse_svd)"
      ],
      "metadata": {
        "colab": {
          "base_uri": "https://localhost:8080/"
        },
        "id": "8Dxdl3IzJVlb",
        "outputId": "a0ca8e8c-1167-42fb-d4d5-f8633c3635a4"
      },
      "execution_count": null,
      "outputs": [
        {
          "output_type": "stream",
          "name": "stdout",
          "text": [
            "Comparative Analysis of Dimensionality reduction:\n",
            "Mean Squared Error (PCA): 21.056445816411316\n",
            "Mean Squared Error (LDA): 0.020538305865321942\n",
            "Mean Squared Error (SVD): 0.09179336073164289\n"
          ]
        }
      ]
    },
    {
      "cell_type": "markdown",
      "source": [
        "FINAL RESULT CONCLUSION :\n",
        "\n",
        "LDA yields the lowest MSE (0.0205), indicating the best predictive performance among the three techniques.\n",
        "\n",
        "SVD follows with an MSE of 0.0918, which is higher than LDA but lower than PCA.\n",
        "\n",
        "PCA has the highest MSE of 21.0564, indicating the least effective performance in terms of predictive accuracy.\n",
        "\n",
        "\n",
        "Therefore, in terms of predictive performance as measured by MSE, Linear Discriminant Analysis (LDA) appears to be the best dimensionality reduction technique among the options provided."
      ],
      "metadata": {
        "id": "iHZoNsaFK-Zr"
      }
    }
  ]
}